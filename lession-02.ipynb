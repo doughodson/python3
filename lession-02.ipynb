{
 "cells": [
  {
   "cell_type": "markdown",
   "id": "1dcbdd79-e02d-4173-888b-c9e59bcad347",
   "metadata": {
    "editable": true
   },
   "source": [
    "## Python object attributes (methods and properties)\n",
    "\n",
    "Different types of objects in Python have different **attributes** that can be referred to by name (similar to a variable). To access an attribute of an object, use a dot (`.`) after the object, then specify the attribute (i.e. `obj.attribute`)\n",
    "\n",
    "When an attribute of an object is a callable, that attribute is called a **method**. It is the same as a function, only this function is bound to a particular object.\n",
    "\n",
    "When an attribute of an object is not a callable, that attribute is called a **property**. It is just a piece of data about the object, that is itself another object.\n",
    "\n",
    "The built-in `dir()` function can be used to return a list of an object's attributes.\n",
    "\n",
    "<hr>"
   ]
  },
  {
   "cell_type": "markdown",
   "id": "0de1a110-ba3d-441a-ba23-de1e6dc5153d",
   "metadata": {
    "editable": true
   },
   "source": [
    "## Some methods on string objects\n",
    "\n",
    "- **`.capitalize()`** to return a capitalized version of the string (only first char uppercase)\n",
    "- **`.upper()`** to return an uppercase version of the string (all chars uppercase)\n",
    "- **`.lower()`** to return an lowercase version of the string (all chars lowercase)\n",
    "- **`.count(substring)`** to return the number of occurences of the substring in the string\n",
    "- **`.startswith(substring)`** to determine if the string starts with the substring\n",
    "- **`.endswith(substring)`** to determine if the string ends with the substring\n",
    "- **`.replace(old, new)`** to return a copy of the string with occurences of the \"old\" replaced by \"new\""
   ]
  },
  {
   "cell_type": "code",
   "execution_count": null,
   "id": "105773d0-6145-4909-9d60-12399dc69ced",
   "metadata": {},
   "outputs": [],
   "source": [
    "# without arguments, dir() returns a list of names in the current local scope\n",
    "dir()"
   ]
  },
  {
   "cell_type": "code",
   "execution_count": null,
   "id": "ab296f52-aeef-4576-9fbc-c350edaf993a",
   "metadata": {
    "collapsed": false,
    "editable": true,
    "jupyter": {
     "outputs_hidden": false
    }
   },
   "outputs": [],
   "source": [
    "# Assign a string to a variable\n",
    "a_string = 'tHis is a sTriNg'\n",
    "dir(a_string) # returns a list of all the attributes available for that object"
   ]
  },
  {
   "cell_type": "code",
   "execution_count": null,
   "id": "b0ed9f9c-c0cd-4d56-8b51-1aa94b849dfe",
   "metadata": {},
   "outputs": [],
   "source": [
    "# good reference: https://www.geeksforgeeks.org/python/python-difference-between-dir-and-help/#\n",
    "help(dir)"
   ]
  },
  {
   "cell_type": "code",
   "execution_count": null,
   "id": "9cb41f12-0c06-4cdd-9d14-ef09c7891873",
   "metadata": {},
   "outputs": [],
   "source": [
    "help(str)"
   ]
  },
  {
   "cell_type": "code",
   "execution_count": null,
   "id": "bf948160-e60a-4ab2-b68c-277d64ad2e4c",
   "metadata": {},
   "outputs": [],
   "source": [
    "dir(str)"
   ]
  },
  {
   "cell_type": "code",
   "execution_count": null,
   "id": "a435ed28-eb0a-4d2b-8461-f520cb2249e1",
   "metadata": {
    "editable": true
   },
   "outputs": [],
   "source": [
    "# Assign a string to a variable\n",
    "a_string = 'tHis is a sTriNg'\n",
    "# Return a capitalized version of the string\n",
    "a_string.capitalize()"
   ]
  },
  {
   "cell_type": "code",
   "execution_count": null,
   "id": "bad84ae0-62d9-4616-b630-1895e401d190",
   "metadata": {
    "collapsed": false,
    "editable": true,
    "jupyter": {
     "outputs_hidden": false
    }
   },
   "outputs": [],
   "source": [
    "# Assign a string to a variable\n",
    "a_string = 'tHis is a sTriNg'\n",
    "# Return an uppercase version of the string\n",
    "a_string.upper()"
   ]
  },
  {
   "cell_type": "code",
   "execution_count": null,
   "id": "f4b5fefa-6cc5-4b12-88bf-6c798424b3cd",
   "metadata": {
    "collapsed": false,
    "editable": true,
    "jupyter": {
     "outputs_hidden": false
    }
   },
   "outputs": [],
   "source": [
    "# Assign a string to a variable\n",
    "a_string = 'tHis is a sTriNg'\n",
    "# Return a lowercase version of the string\n",
    "a_string.lower()"
   ]
  },
  {
   "cell_type": "code",
   "execution_count": null,
   "id": "0d75d75a-3943-4fa6-92dc-d51685fb6c85",
   "metadata": {
    "collapsed": false,
    "editable": true,
    "jupyter": {
     "outputs_hidden": false
    }
   },
   "outputs": [],
   "source": [
    "# Assign a string to a variable\n",
    "a_string = 'tHis is a sTriNg'\n",
    "print(a_string.lower())\n",
    "# Notice that the methods called have not actually modified the string\n",
    "a_string"
   ]
  },
  {
   "cell_type": "code",
   "execution_count": null,
   "id": "e0c8cd04-9267-4259-b874-e7633247ca9b",
   "metadata": {
    "collapsed": false,
    "editable": true,
    "jupyter": {
     "outputs_hidden": false
    }
   },
   "outputs": [],
   "source": [
    "# Assign a string to a variable\n",
    "a_string = 'tHis is a sTriNg'\n",
    "# Count number of occurences of a substring in the string\n",
    "a_string.count('i')"
   ]
  },
  {
   "cell_type": "code",
   "execution_count": null,
   "id": "982fba30-380f-4cbf-9ada-2b4edfd17f42",
   "metadata": {
    "collapsed": false,
    "editable": true,
    "jupyter": {
     "outputs_hidden": false
    }
   },
   "outputs": [],
   "source": [
    "# Assign a string to a variable\n",
    "a_string = 'tHis is a sTriNg'\n",
    "# Count number of occurences of a substring in the string after a certain position\n",
    "a_string.count('i', 7)"
   ]
  },
  {
   "cell_type": "code",
   "execution_count": null,
   "id": "8a49ce88-06b8-42b0-9eb1-bc8e9bbd2469",
   "metadata": {
    "collapsed": false,
    "editable": true,
    "jupyter": {
     "outputs_hidden": false
    }
   },
   "outputs": [],
   "source": [
    "# Assign a string to a variable\n",
    "a_string = 'tHis is a sTriNg'\n",
    "# Count number of occurences of a substring in the string\n",
    "a_string.count('is')"
   ]
  },
  {
   "cell_type": "code",
   "execution_count": null,
   "id": "045189e9-5ac3-4453-bfd4-26da223c7e9b",
   "metadata": {
    "collapsed": false,
    "editable": true,
    "jupyter": {
     "outputs_hidden": false
    }
   },
   "outputs": [],
   "source": [
    "# Assign a string to a variable\n",
    "a_string = 'tHis is a sTriNg'\n",
    "# Does the string start with 'this'?\n",
    "a_string.startswith('this')"
   ]
  },
  {
   "cell_type": "code",
   "execution_count": null,
   "id": "591a2f76-f72c-4546-accf-8de5bdfe6236",
   "metadata": {
    "collapsed": false,
    "editable": true,
    "jupyter": {
     "outputs_hidden": false
    }
   },
   "outputs": [],
   "source": [
    "# Assign a string to a variable\n",
    "a_string = 'tHis is a sTriNg'\n",
    "# Does the lowercase string start with 'this'?\n",
    "a_string.lower().startswith('this')"
   ]
  },
  {
   "cell_type": "code",
   "execution_count": null,
   "id": "14471251-6c6e-41aa-bec4-80ba1a98e761",
   "metadata": {
    "collapsed": false,
    "editable": true,
    "jupyter": {
     "outputs_hidden": false
    }
   },
   "outputs": [],
   "source": [
    "# Assign a string to a variable\n",
    "a_string = 'tHis is a sTriNg'\n",
    "# Does the string end with 'Ng'?\n",
    "a_string.endswith('Ng')"
   ]
  },
  {
   "cell_type": "code",
   "execution_count": null,
   "id": "5df13a9d-15fa-46c4-a714-ad1d62e8d463",
   "metadata": {
    "collapsed": false,
    "editable": true,
    "jupyter": {
     "outputs_hidden": false
    }
   },
   "outputs": [],
   "source": [
    "# Assign a string to a variable\n",
    "a_string = 'tHis is a sTriNg'\n",
    "# Return a version of the string with a substring replaced with something else\n",
    "a_string.replace('is', 'XYZ')"
   ]
  },
  {
   "cell_type": "code",
   "execution_count": null,
   "id": "9e2d0206-a7a9-44b6-b7f4-cba3508e8783",
   "metadata": {
    "collapsed": false,
    "editable": true,
    "jupyter": {
     "outputs_hidden": false
    }
   },
   "outputs": [],
   "source": [
    "# Assign a string to a variable\n",
    "a_string = 'tHis is a sTriNg'\n",
    "# Return a version of the string with a substring replaced with something else\n",
    "a_string.replace('i', '!')"
   ]
  },
  {
   "cell_type": "code",
   "execution_count": null,
   "id": "cf2a0604-32cb-4220-a597-84e22b25eaee",
   "metadata": {
    "editable": true
   },
   "outputs": [],
   "source": [
    "# Assign a string to a variable\n",
    "a_string = 'tHis is a sTriNg'\n",
    "# Return a version of the string with the first 2 occurences a substring replaced with something else\n",
    "a_string.replace('i', '!', 2)"
   ]
  },
  {
   "cell_type": "markdown",
   "id": "e97d6b39-7753-4d96-b7c6-ae6e69bb8231",
   "metadata": {
    "collapsed": true,
    "editable": true,
    "jupyter": {
     "outputs_hidden": true
    }
   },
   "source": [
    "## Some methods on list objects\n",
    "\n",
    "- **`.append(item)`** to add a single item to the list\n",
    "- **`.extend([item1, item2, ...])`** to add multiple items to the list\n",
    "- **`.remove(item)`** to remove a single item from the list\n",
    "- **`.pop()`** to remove and return the item at the end of the list\n",
    "- **`.pop(index)`** to remove and return an item at an index"
   ]
  },
  {
   "cell_type": "code",
   "execution_count": null,
   "id": "d865fde7-e6f6-4ed1-a348-4fc070b7e85b",
   "metadata": {},
   "outputs": [],
   "source": [
    "help(list)"
   ]
  },
  {
   "cell_type": "code",
   "execution_count": null,
   "id": "b4aa04dd-16be-48b6-a92b-7715ffaae3c3",
   "metadata": {
    "editable": true
   },
   "outputs": [],
   "source": [
    "# append(item)\n",
    "list = [1,2,3]\n",
    "print(list)\n",
    "list.append(4)\n",
    "print(list)"
   ]
  },
  {
   "cell_type": "code",
   "execution_count": null,
   "id": "e61f2ec0-7715-4d3c-ae49-6535f5441e51",
   "metadata": {
    "editable": true
   },
   "outputs": [],
   "source": [
    "# extend([item1, items, ...})\n",
    "fruits = ['apple', 'banana', 'cherry']\n",
    "cars = ['Ford', 'BMW', 'Volvo']\n",
    "fruits.extend(cars)\n",
    "print(fruits)"
   ]
  },
  {
   "cell_type": "code",
   "execution_count": null,
   "id": "e8d263be-7657-4aa7-acaf-3f4340beaa06",
   "metadata": {
    "editable": true
   },
   "outputs": [],
   "source": [
    " # remove(item) - removes the first occurrence of the element with the specified value\n",
    "fruits = ['apple', 'banana', 'cherry']\n",
    "fruits.remove(\"banana\")\n",
    "print(fruits)\n",
    "#\n",
    "fruits = ['apple', 'banana', 'cherry']\n",
    "fruits.remove('apple')\n",
    "print(fruits)\n",
    "#\n",
    "numbers = [1, 2, 3, 4, 1, 2, 3, 4]\n",
    "print(numbers)\n",
    "numbers.remove(1)\n",
    "print(numbers)"
   ]
  },
  {
   "cell_type": "code",
   "execution_count": null,
   "id": "19a6d22c-7737-46c9-8810-465f21b8f88e",
   "metadata": {},
   "outputs": [],
   "source": [
    "# pop()\n",
    "fruits = ['apple', 'banana', 'cherry']\n",
    "fruits.pop()\n",
    "print(fruits)"
   ]
  },
  {
   "cell_type": "code",
   "execution_count": null,
   "id": "66dcea82-0703-4797-a3e9-a48327b9d382",
   "metadata": {},
   "outputs": [],
   "source": [
    "# pop(index) - default index is -1\n",
    "fruits = ['apple', 'banana', 'cherry']\n",
    "fruits.pop(0)\n",
    "print(fruits)"
   ]
  },
  {
   "cell_type": "markdown",
   "id": "1a03ce0d-f0af-442a-ba81-d3447e756331",
   "metadata": {
    "editable": true
   },
   "source": [
    "## Some methods on set objects\n",
    "\n",
    "- **`.add(item)`** to add a single item to the set\n",
    "- **`.update([item1, item2, ...])`** to add multiple items to the set\n",
    "- **`.update(set2, set3, ...)`** to add items from all provided sets to the set\n",
    "- **`.remove(item)`** to remove a single item from the set\n",
    "- **`.pop()`** to remove and return a random item from the set\n",
    "- **`.difference(set2)`** to return items in the set that are not in another set\n",
    "- **`.intersection(set2)`** to return items in both sets\n",
    "- **`.union(set2)`** to return items that are in either set\n",
    "- **`.symmetric_difference(set2)`** to return items that are only in one set (not both)\n",
    "- **`.issuperset(set2)`** does the set contain everything in the other set?\n",
    "- **`.issubset(set2)`** is the set contained in the other set?"
   ]
  },
  {
   "cell_type": "code",
   "execution_count": null,
   "id": "cf7b8871-08ff-4ee0-8358-41357618e678",
   "metadata": {
    "editable": true,
    "scrolled": true
   },
   "outputs": [],
   "source": [
    "# create empty set\n",
    "s = set()\n",
    "# set attributes\n",
    "dir(s)"
   ]
  },
  {
   "cell_type": "code",
   "execution_count": null,
   "id": "439b3b26-0b0f-49db-8d1a-b16a0034189b",
   "metadata": {
    "editable": true,
    "scrolled": true
   },
   "outputs": [],
   "source": [
    "#\n",
    "# documentation on set.add()\n",
    "#\n",
    "help(set.add)"
   ]
  },
  {
   "cell_type": "code",
   "execution_count": null,
   "id": "563f952a-c73c-498d-830f-01cca0c99ca0",
   "metadata": {
    "scrolled": true
   },
   "outputs": [],
   "source": [
    "#\n",
    "# .add(item)\n",
    "#\n",
    "# create empty set\n",
    "s = set()\n",
    "# add(item)\n",
    "s.add('first value')\n",
    "print(s)\n",
    "# add(item)\n",
    "s.add('second value')\n",
    "print(s)"
   ]
  },
  {
   "cell_type": "code",
   "execution_count": null,
   "id": "83e35e7d-a019-448f-80b1-deb6cf7a0c83",
   "metadata": {},
   "outputs": [],
   "source": [
    "#\n",
    "# .update([item1, item2, ...])\n",
    "#\n",
    "# create empty set\n",
    "s = set()\n",
    "# update([item1, item2, ...])\n",
    "s.update(['first value', 'second value'])\n",
    "print(s)"
   ]
  },
  {
   "cell_type": "code",
   "execution_count": null,
   "id": "af0cfa76-73f4-467d-b963-395787533860",
   "metadata": {},
   "outputs": [],
   "source": [
    "#\n",
    "# .update(set2, set3, ...)\n",
    "#\n",
    "# create empty set\n",
    "s1 = set()\n",
    "# update([item1, item2, ...])\n",
    "s1.update(['first value', 'second value'])\n",
    "print(s1)\n",
    "\n",
    "# create another set\n",
    "s2 = set()\n",
    "# update([item1, item2, ...])\n",
    "s2.update(['third value'])\n",
    "print(s2)\n",
    "\n",
    "# update first set with second set\n",
    "s1.update(s2)\n",
    "print(s1)"
   ]
  },
  {
   "cell_type": "code",
   "execution_count": null,
   "id": "b3dedb7e-ec20-4950-9087-73f9ffd3925b",
   "metadata": {},
   "outputs": [],
   "source": [
    "#\n",
    "# .remove(item)\n",
    "#\n",
    "# create empty set\n",
    "s = set()\n",
    "s.add('item')\n",
    "print(s)\n",
    "s.remove('item')\n",
    "print(s)"
   ]
  },
  {
   "cell_type": "code",
   "execution_count": null,
   "id": "dd043426-01d5-4ee5-a994-97424b09c041",
   "metadata": {},
   "outputs": [],
   "source": [
    "#\n",
    "# .pop()\n",
    "#\n",
    "# create empty set\n",
    "s = {1,2,3,4}\n",
    "print(s)\n",
    "s.pop() # remove a random item\n",
    "print(s)"
   ]
  },
  {
   "cell_type": "code",
   "execution_count": null,
   "id": "f2567157-2f6d-4807-b784-23cc353e1d11",
   "metadata": {},
   "outputs": [],
   "source": [
    "#\n",
    "# .difference(set2) - to return items in the set that are not in another set\n",
    "#\n",
    "\n",
    "# create 2 sets\n",
    "s1 = {1, 2, 3}\n",
    "s2 = {2, 3, 4}\n",
    "\n",
    "print(s1.difference(s2))"
   ]
  },
  {
   "cell_type": "code",
   "execution_count": null,
   "id": "79120636-ebf5-4398-8b94-2b095efe2345",
   "metadata": {},
   "outputs": [],
   "source": [
    "#\n",
    "# .intersection(set2)\n",
    "#\n",
    "\n",
    "# create 2 sets\n",
    "s1 = {1, 2, 3}\n",
    "s2 = {2, 3, 4}\n",
    "\n",
    "print(s1.intersection(s2))"
   ]
  },
  {
   "cell_type": "code",
   "execution_count": null,
   "id": "f4d28a70-3a4f-43c7-bf91-bd493634b18f",
   "metadata": {},
   "outputs": [],
   "source": [
    "#\n",
    "# .union(set2)\n",
    "#\n",
    "\n",
    "# create 2 sets\n",
    "s1 = {1, 2, 3}\n",
    "s2 = {2, 3, 4}\n",
    "\n",
    "print(s1.union(s2))"
   ]
  },
  {
   "cell_type": "code",
   "execution_count": null,
   "id": "a0f3c46b-9617-4486-a8c9-94491578d83e",
   "metadata": {},
   "outputs": [],
   "source": [
    "#\n",
    "# .symmetric_difference(set2) - to return items that are only in one set (not both)\n",
    "#\n",
    "\n",
    "# create 2 sets\n",
    "s1 = {1, 2, 3}\n",
    "s2 = {2, 3, 4}\n",
    "\n",
    "print(s1.symmetric_difference(s2))"
   ]
  },
  {
   "cell_type": "code",
   "execution_count": null,
   "id": "6d20fc6d-0f27-4d08-9561-400983963fa0",
   "metadata": {},
   "outputs": [],
   "source": [
    "# \n",
    "# .issuperset(set2) - does the set contain everything in the other set?\n",
    "#\n",
    "\n",
    "# create 2 sets\n",
    "s1 = {1, 2, 3}\n",
    "s2 = {2, 3, 4}\n",
    "\n",
    "print(s1.issuperset(s2))"
   ]
  },
  {
   "cell_type": "code",
   "execution_count": null,
   "id": "42040a40-f0d8-4646-8c3b-c333d5757f22",
   "metadata": {},
   "outputs": [],
   "source": [
    "# \n",
    "# .issuperset(set2) - does the set contain everything in the other set?\n",
    "#\n",
    "\n",
    "# create 2 sets\n",
    "s1 = {1, 2, 3}\n",
    "s2 = {2, 3}\n",
    "\n",
    "print(s1.issuperset(s2))"
   ]
  },
  {
   "cell_type": "code",
   "execution_count": null,
   "id": "4abcf312-d091-4ddb-a557-6aa722f28cc0",
   "metadata": {},
   "outputs": [],
   "source": [
    "# \n",
    "# .issubset(set2) - is the set contained in the other set?\n",
    "#\n",
    "\n",
    "# create 2 sets\n",
    "s1 = {1, 2, 3}\n",
    "s2 = {2, 3, 4}\n",
    "\n",
    "print(s1.issubset(s2))"
   ]
  },
  {
   "cell_type": "code",
   "execution_count": null,
   "id": "a4a89254-750d-43c9-bf9e-5ba1bd440464",
   "metadata": {},
   "outputs": [],
   "source": [
    "# \n",
    "# .issubset(set2) - is the set contained in the other set?\n",
    "#\n",
    "\n",
    "# create 2 sets\n",
    "s1 = {3}\n",
    "s2 = {2, 3}\n",
    "\n",
    "print(s1.issubset(s2))"
   ]
  },
  {
   "cell_type": "markdown",
   "id": "83623161-faed-4ff2-8e2e-c46081e39982",
   "metadata": {
    "editable": true
   },
   "source": [
    "## Some methods on dict objects\n",
    "\n",
    "- **`.update([(key1, val1), (key2, val2), ...])`** to add multiple key-value pairs to the dict\n",
    "- **`.update(dict2)`** to add all keys and values from another dict to the dict\n",
    "- **`.pop(key)`** to remove key and return its value from the dict (error if key not found)\n",
    "- **`.pop(key, default_val)`** to remove key and return its value from the dict (or return default_val if key not found)\n",
    "- **`.get(key)`** to return the value at a specified key in the dict (or None if key not found)\n",
    "- **`.get(key, default_val)`** to return the value at a specified key in the dict (or default_val if key not found)\n",
    "- **`.keys()`** to return a list of keys in the dict\n",
    "- **`.values()`** to return a list of values in the dict\n",
    "- **`.items()`** to return a list of key-value pairs (tuples) in the dict"
   ]
  },
  {
   "cell_type": "code",
   "execution_count": null,
   "id": "7b014533-7abd-4b89-af15-1c2013e7b956",
   "metadata": {
    "editable": true
   },
   "outputs": [],
   "source": [
    "# .update([(key1, val1), (key2, val2), ...]) - to add multiple key-value pairs to the dict\n",
    "d = {}\n",
    "d.update([('key', 'value'), (1, 'value')])\n",
    "print(d)"
   ]
  },
  {
   "cell_type": "code",
   "execution_count": null,
   "id": "83b22f3f-4d9f-4072-bf34-f71c9a7e4b6d",
   "metadata": {
    "editable": true
   },
   "outputs": [],
   "source": [
    "# .update(dict2) - to add all keys and values from another dict to the dict\n",
    "d1 = {'key1': 'value1'}\n",
    "d2 = {'key2': 'value2'}\n",
    "d1.update(d2)\n",
    "print(d1)"
   ]
  },
  {
   "cell_type": "code",
   "execution_count": null,
   "id": "a334a413-dade-4b9c-b850-547ad5a913da",
   "metadata": {},
   "outputs": [],
   "source": [
    "# .pop(key) - to remove key and return its value from the dict (error if key not found)\n",
    "d = {1: 'one', 2: 'two'}\n",
    "d.pop(1)\n",
    "print(d)"
   ]
  },
  {
   "cell_type": "code",
   "execution_count": null,
   "id": "81f4e003-3213-47c9-8301-cd005d7ff8b8",
   "metadata": {},
   "outputs": [],
   "source": [
    "# .pop(key, default_val) - to remove key and return its value from the dict (or return default_val if key not found)\n",
    "d = {1: 'one', 2: 'two'}\n",
    "d.pop(3, 'not found')\n",
    "print(d)"
   ]
  },
  {
   "cell_type": "code",
   "execution_count": null,
   "id": "0fb18cc5-7c2c-4fbf-830d-cff7edb84e30",
   "metadata": {},
   "outputs": [],
   "source": [
    "# .get(key) - to return the value at a specified key in the dict (or None if key not found)\n",
    "d = {1: 'one', 2: 'two'}\n",
    "print(d.get(1))\n",
    "print(d.get(3))"
   ]
  },
  {
   "cell_type": "code",
   "execution_count": null,
   "id": "965996d0-112c-4f5b-a32a-8978ad9055dc",
   "metadata": {},
   "outputs": [],
   "source": [
    "# .get(key, default_val) - to return the value at a specified key in the dict (or default_val if key not found)\n",
    "d = {1: 'one', 2: 'two'}\n",
    "print(d.get(1, \"Didn't find it\"))\n",
    "print(d.get(3, \"Didn't find it\"))"
   ]
  },
  {
   "cell_type": "code",
   "execution_count": null,
   "id": "e847433c-acb8-4beb-a58d-9d6ac296683e",
   "metadata": {},
   "outputs": [],
   "source": [
    "# .keys() - to return a list of keys in the dict\n",
    "d = {1: 'one', 2: 'two'}\n",
    "print(d.keys())"
   ]
  },
  {
   "cell_type": "code",
   "execution_count": null,
   "id": "651b7a70-1e9f-4b5b-8e7e-97b61dc99857",
   "metadata": {},
   "outputs": [],
   "source": [
    "# .values() - to return a list of values in the dict\n",
    "d = {1: 'one', 2: 'two'}\n",
    "print(d.values())"
   ]
  },
  {
   "cell_type": "code",
   "execution_count": null,
   "id": "849791fb-f42f-41c9-aa87-92007c17fb1b",
   "metadata": {},
   "outputs": [],
   "source": [
    "# .items() - to return a list of key-value pairs (tuples) in the dict\n",
    "d = {1: 'one', 2: 'two'}\n",
    "print(d.items())"
   ]
  }
 ],
 "metadata": {
  "kernelspec": {
   "display_name": "Python 3 (ipykernel)",
   "language": "python",
   "name": "python3"
  },
  "language_info": {
   "codemirror_mode": {
    "name": "ipython",
    "version": 3
   },
   "file_extension": ".py",
   "mimetype": "text/x-python",
   "name": "python",
   "nbconvert_exporter": "python",
   "pygments_lexer": "ipython3",
   "version": "3.13.7"
  }
 },
 "nbformat": 4,
 "nbformat_minor": 5
}
