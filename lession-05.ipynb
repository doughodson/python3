{
 "cells": [
  {
   "cell_type": "markdown",
   "id": "3dfbd466-a99a-4229-b320-97044d30dc33",
   "metadata": {},
   "source": [
    "## Python's Module, Package and Library\n",
    "\n",
    "- A module is a simple Python file that contains collections of functions and global variables and with having a .py extension file.\n",
    "- It is an executable file and to organize all the modules we have the concept called Package in Python.\n",
    "- A package is a simple directory having collections of modules.\n",
    "\n",
    "### Reference\n",
    "\n",
    "- https://www.geeksforgeeks.org/python/what-is-the-difference-between-pythons-module-package-and-library/#"
   ]
  },
  {
   "cell_type": "code",
   "execution_count": 6,
   "id": "ed2ecf34-84c6-4520-9a08-3171de8fc59d",
   "metadata": {},
   "outputs": [
    {
     "ename": "AttributeError",
     "evalue": "module 'demo_module' has no attribute 'myModule'",
     "output_type": "error",
     "traceback": [
      "\u001b[31m---------------------------------------------------------------------------\u001b[39m",
      "\u001b[31mAttributeError\u001b[39m                            Traceback (most recent call last)",
      "\u001b[36mCell\u001b[39m\u001b[36m \u001b[39m\u001b[32mIn[6]\u001b[39m\u001b[32m, line 4\u001b[39m\n\u001b[32m      1\u001b[39m \u001b[38;5;66;03m# import the module\u001b[39;00m\n\u001b[32m      2\u001b[39m \u001b[38;5;28;01mimport\u001b[39;00m\u001b[38;5;250m \u001b[39m\u001b[34;01mdemo_module\u001b[39;00m\n\u001b[32m----> \u001b[39m\u001b[32m4\u001b[39m \u001b[43mdemo_module\u001b[49m\u001b[43m.\u001b[49m\u001b[43mmyModule\u001b[49m(\u001b[33m\"\u001b[39m\u001b[33mMath\u001b[39m\u001b[33m\"\u001b[39m)\n",
      "\u001b[31mAttributeError\u001b[39m: module 'demo_module' has no attribute 'myModule'"
     ]
    }
   ],
   "source": [
    "# import the module\n",
    "import demo_module\n",
    "\n",
    "demo_module.myModule(\"Math\")"
   ]
  },
  {
   "cell_type": "code",
   "execution_count": null,
   "id": "4f359b41-d0f1-4897-9d8b-30964f3688e4",
   "metadata": {},
   "outputs": [],
   "source": []
  }
 ],
 "metadata": {
  "kernelspec": {
   "display_name": "Python 3 (ipykernel)",
   "language": "python",
   "name": "python3"
  },
  "language_info": {
   "codemirror_mode": {
    "name": "ipython",
    "version": 3
   },
   "file_extension": ".py",
   "mimetype": "text/x-python",
   "name": "python",
   "nbconvert_exporter": "python",
   "pygments_lexer": "ipython3",
   "version": "3.13.7"
  }
 },
 "nbformat": 4,
 "nbformat_minor": 5
}
