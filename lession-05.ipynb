{
 "cells": [
  {
   "cell_type": "markdown",
   "id": "1ba60df5-db1a-4553-adc6-582af3e7703c",
   "metadata": {},
   "source": [
    "## Data-Oriented and ASyncIO\n",
    "\n",
    "Reference\n",
    "\n",
    "- https://towardsdatascience.com/data-oriented-programming-with-python-ef478c43a874/\n",
    "- https://medium.com/velotio-perspectives/an-introduction-to-asynchronous-programming-in-python-af0189a88bbb\n",
    "- https://realpython.com/python-async-features/"
   ]
  },
  {
   "cell_type": "markdown",
   "id": "e9bc660e-e247-41f4-ac89-79dbdb209794",
   "metadata": {},
   "source": [
    "## Data-Oriented\n",
    "\n",
    "A recap on Data-Oriented Programming by Yehonathan Sharvit (book published in 2022)\n",
    "\n",
    "![DOD Book Cover](gfx/dod-book-cover.png)\n",
    "\n",
    "### Principles\n",
    "\n",
    "1. Separate code from data\n",
    "2. Represent data with generic data structures\n",
    "3. Data is immutable\n",
    "4. Separate data schema from data representation"
   ]
  },
  {
   "cell_type": "code",
   "execution_count": null,
   "id": "73c4b8ef-0050-4650-bb98-f99a976106cb",
   "metadata": {},
   "outputs": [],
   "source": []
  }
 ],
 "metadata": {
  "kernelspec": {
   "display_name": "Python 3 (ipykernel)",
   "language": "python",
   "name": "python3"
  },
  "language_info": {
   "codemirror_mode": {
    "name": "ipython",
    "version": 3
   },
   "file_extension": ".py",
   "mimetype": "text/x-python",
   "name": "python",
   "nbconvert_exporter": "python",
   "pygments_lexer": "ipython3",
   "version": "3.13.7"
  }
 },
 "nbformat": 4,
 "nbformat_minor": 5
}
