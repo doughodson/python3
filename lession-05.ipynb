{
 "cells": [
  {
   "cell_type": "markdown",
   "id": "89ee3204-79f6-4910-af15-ce1595022807",
   "metadata": {},
   "source": [
    "## How does python find modules?\n",
    "\n",
    "- Module Search Path: It defines the locations where Python looks for modules and packages.\n",
    "- Initialization: sys.path is initialized when the Python interpreter starts.\n",
    "- Order of Search: The interpreter searches directories in the order they appear in the sys.path list. The first entry is typically the directory of the script being executed or the current working directory in an interactive session.\n",
    "- Contents: It usually includes the current working directory (or script directory), directories specified by the PYTHONPATH environment variable, and standard library directories.\n",
    "- Modification: You can modify sys.path within a running Python program by appending or inserting new paths. However, these changes are temporary and only apply to the current session.\n",
    "- Viewing sys.path: You can easily inspect the contents of sys.path by importing the sys module and printing sys.path"
   ]
  },
  {
   "cell_type": "code",
   "execution_count": 1,
   "id": "f8acb791-829a-4bb3-9f87-3180dec6aba0",
   "metadata": {},
   "outputs": [
    {
     "name": "stdout",
     "output_type": "stream",
     "text": [
      "['D:\\\\apps\\\\python-313\\\\python313.zip', 'D:\\\\apps\\\\python-313\\\\DLLs', 'D:\\\\apps\\\\python-313\\\\Lib', 'D:\\\\apps\\\\python-313', 'D:\\\\dev\\\\python\\\\jupyter\\\\venv', '', 'D:\\\\dev\\\\python\\\\jupyter\\\\venv\\\\Lib\\\\site-packages', 'D:\\\\dev\\\\python\\\\jupyter\\\\venv\\\\Lib\\\\site-packages\\\\win32', 'D:\\\\dev\\\\python\\\\jupyter\\\\venv\\\\Lib\\\\site-packages\\\\win32\\\\lib', 'D:\\\\dev\\\\python\\\\jupyter\\\\venv\\\\Lib\\\\site-packages\\\\Pythonwin']\n",
      "----- After path modification -----\n",
      "['D:\\\\apps\\\\python-313\\\\python313.zip', 'D:\\\\apps\\\\python-313\\\\DLLs', 'D:\\\\apps\\\\python-313\\\\Lib', 'D:\\\\apps\\\\python-313', 'D:\\\\dev\\\\python\\\\jupyter\\\\venv', '', 'D:\\\\dev\\\\python\\\\jupyter\\\\venv\\\\Lib\\\\site-packages', 'D:\\\\dev\\\\python\\\\jupyter\\\\venv\\\\Lib\\\\site-packages\\\\win32', 'D:\\\\dev\\\\python\\\\jupyter\\\\venv\\\\Lib\\\\site-packages\\\\win32\\\\lib', 'D:\\\\dev\\\\python\\\\jupyter\\\\venv\\\\Lib\\\\site-packages\\\\Pythonwin', '.']\n"
     ]
    }
   ],
   "source": [
    "import sys\n",
    "print(sys.path)\n",
    "sys.path += \".\"\n",
    "print(\"----- After path modification -----\")\n",
    "print(sys.path)"
   ]
  },
  {
   "cell_type": "markdown",
   "id": "3dfbd466-a99a-4229-b320-97044d30dc33",
   "metadata": {},
   "source": [
    "## Python's Module, Package and Library\n",
    "\n",
    "- A module is a simple Python file that contains collections of functions and global variables and with having a .py extension file.\n",
    "- It is an executable file and to organize all the modules we have the concept called Package in Python.\n",
    "- A package is a simple directory having collections of modules.\n",
    "- The package is simply a namespace.\n",
    "- It is often assumed that while a package is a collection of modules, a library is a collection of packages.\n",
    "\n",
    "### Reference\n",
    "\n",
    "- https://www.geeksforgeeks.org/python/what-is-the-difference-between-pythons-module-package-and-library/#"
   ]
  },
  {
   "cell_type": "code",
   "execution_count": 2,
   "id": "7b6409af-b9c1-41ab-ac1b-a6c8c4cd13e6",
   "metadata": {},
   "outputs": [
    {
     "data": {
      "text/plain": [
       "['__builtins__',\n",
       " '__cached__',\n",
       " '__doc__',\n",
       " '__file__',\n",
       " '__loader__',\n",
       " '__name__',\n",
       " '__package__',\n",
       " '__spec__',\n",
       " 'my_module']"
      ]
     },
     "execution_count": 2,
     "metadata": {},
     "output_type": "execute_result"
    }
   ],
   "source": [
    "# what's in this module\n",
    "import demo_module\n",
    "dir(demo_module)"
   ]
  },
  {
   "cell_type": "code",
   "execution_count": 3,
   "id": "ed2ecf34-84c6-4520-9a08-3171de8fc59d",
   "metadata": {},
   "outputs": [
    {
     "name": "stdout",
     "output_type": "stream",
     "text": [
      "This is My Module : Math\n"
     ]
    }
   ],
   "source": [
    "# import the module\n",
    "import demo_module\n",
    "demo_module.my_module(\"Math\")"
   ]
  },
  {
   "cell_type": "code",
   "execution_count": 4,
   "id": "4f359b41-d0f1-4897-9d8b-30964f3688e4",
   "metadata": {},
   "outputs": [
    {
     "data": {
      "text/plain": [
       "['__doc__',\n",
       " '__file__',\n",
       " '__loader__',\n",
       " '__name__',\n",
       " '__package__',\n",
       " '__path__',\n",
       " '__spec__']"
      ]
     },
     "execution_count": 4,
     "metadata": {},
     "output_type": "execute_result"
    }
   ],
   "source": [
    "import package_namespace\n",
    "dir(package_namespace)"
   ]
  },
  {
   "cell_type": "code",
   "execution_count": 5,
   "id": "b6af5aeb-f2bc-4135-8001-c89ddac9066d",
   "metadata": {},
   "outputs": [
    {
     "name": "stdout",
     "output_type": "stream",
     "text": [
      "I'm a regular package with a file __init__.py\n"
     ]
    },
    {
     "data": {
      "text/plain": [
       "['__builtins__',\n",
       " '__cached__',\n",
       " '__doc__',\n",
       " '__file__',\n",
       " '__loader__',\n",
       " '__name__',\n",
       " '__package__',\n",
       " '__path__',\n",
       " '__spec__']"
      ]
     },
     "execution_count": 5,
     "metadata": {},
     "output_type": "execute_result"
    }
   ],
   "source": [
    "import package_regular\n",
    "dir(package_regular)"
   ]
  },
  {
   "cell_type": "code",
   "execution_count": 6,
   "id": "c194db67-dc1a-4831-aa8f-ff89b977ac27",
   "metadata": {},
   "outputs": [
    {
     "name": "stdout",
     "output_type": "stream",
     "text": [
      "5\n"
     ]
    }
   ],
   "source": [
    "import package_namespace.module\n",
    "package_namespace.module.my_print(5)"
   ]
  },
  {
   "cell_type": "code",
   "execution_count": null,
   "id": "73517470-f53d-4d0e-bbc0-f587117692ec",
   "metadata": {},
   "outputs": [],
   "source": []
  }
 ],
 "metadata": {
  "kernelspec": {
   "display_name": "Python 3 (ipykernel)",
   "language": "python",
   "name": "python3"
  },
  "language_info": {
   "codemirror_mode": {
    "name": "ipython",
    "version": 3
   },
   "file_extension": ".py",
   "mimetype": "text/x-python",
   "name": "python",
   "nbconvert_exporter": "python",
   "pygments_lexer": "ipython3",
   "version": "3.13.7"
  }
 },
 "nbformat": 4,
 "nbformat_minor": 5
}
