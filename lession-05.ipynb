{
 "cells": [
  {
   "cell_type": "markdown",
   "id": "1ba60df5-db1a-4553-adc6-582af3e7703c",
   "metadata": {},
   "source": [
    "## Data-Oriented and ASyncIO\n",
    "\n",
    "Reference\n",
    "\n",
    "- https://towardsdatascience.com/data-oriented-programming-with-python-ef478c43a874/\n",
    "- https://medium.com/velotio-perspectives/an-introduction-to-asynchronous-programming-in-python-af0189a88bbb\n",
    "- https://realpython.com/python-async-features/"
   ]
  },
  {
   "cell_type": "markdown",
   "id": "e9bc660e-e247-41f4-ac89-79dbdb209794",
   "metadata": {},
   "source": [
    "## Data-Oriented\n",
    "\n",
    "A recap on Data-Oriented Programming by Yehonathan Sharvit (book published in 2022). Book used JavaScript and Java, in this treatment Python is used\n",
    "\n",
    "![DOD Book Cover](gfx/dod-book-cover.png)\n",
    "\n",
    "### Principles are language-agnostic\n",
    "\n",
    "1. Separate code from data in a way that the code resides in functions whose behavior does not depend on data that is encapsulated in the function’s context.\n",
    "2. Represent data with generic data structures\n",
    "3. Data is immutable\n",
    "4. Separate data schema from data representation"
   ]
  },
  {
   "cell_type": "code",
   "execution_count": 4,
   "id": "73c4b8ef-0050-4650-bb98-f99a976106cb",
   "metadata": {},
   "outputs": [
    {
     "data": {
      "text/plain": [
       "'Isaac Asimov'"
      ]
     },
     "execution_count": 4,
     "metadata": {},
     "output_type": "execute_result"
    }
   ],
   "source": [
    "from dataclasses import dataclass\n",
    "\n",
    "@dataclass     # <- a decorator! (a function that takes a function)\n",
    "class AuthorData:\n",
    "    \"\"\"Class for keeping track of an author in the system\"\"\"\n",
    "\n",
    "    first_name: str\n",
    "    last_name: str\n",
    "    n_books: int\n",
    "\n",
    "# The code that deals with full name calculation is separate from the code that deals with the creation of author data.\n",
    "def calculate_name(first_name: str, last_name: str):\n",
    "    return f\"{first_name} {last_name}\"\n",
    "\n",
    "author_data = AuthorData(\"Isaac\", \"Asimov\", 500)\n",
    "calculate_name(author_data.first_name, author_data.last_name)"
   ]
  },
  {
   "cell_type": "code",
   "execution_count": null,
   "id": "91331417-aaae-466e-9b1a-34a42ddc378a",
   "metadata": {},
   "outputs": [],
   "source": []
  }
 ],
 "metadata": {
  "kernelspec": {
   "display_name": "Python 3 (ipykernel)",
   "language": "python",
   "name": "python3"
  },
  "language_info": {
   "codemirror_mode": {
    "name": "ipython",
    "version": 3
   },
   "file_extension": ".py",
   "mimetype": "text/x-python",
   "name": "python",
   "nbconvert_exporter": "python",
   "pygments_lexer": "ipython3",
   "version": "3.13.7"
  }
 },
 "nbformat": 4,
 "nbformat_minor": 5
}
