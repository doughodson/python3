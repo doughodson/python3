{
 "cells": [
  {
   "cell_type": "markdown",
   "id": "1ba60df5-db1a-4553-adc6-582af3e7703c",
   "metadata": {},
   "source": [
    "## Data-Oriented and ASyncIO\n",
    "\n",
    "Reference\n",
    "\n",
    "- https://towardsdatascience.com/data-oriented-programming-with-python-ef478c43a874/\n",
    "- https://medium.com/velotio-perspectives/an-introduction-to-asynchronous-programming-in-python-af0189a88bbb\n",
    "- https://realpython.com/python-async-features/"
   ]
  },
  {
   "cell_type": "markdown",
   "id": "e9bc660e-e247-41f4-ac89-79dbdb209794",
   "metadata": {},
   "source": [
    "## Data-Oriented\n",
    "\n",
    "A recap on Data-Oriented Programming by Yehonathan Sharvit (book published in 2022). Book used JavaScript and Java, in this treatment Python is used\n",
    "\n",
    "![DOD Book Cover](gfx/dod-book-cover.png)\n",
    "\n",
    "Python is a hybrid of OOP and FP\n",
    "\n",
    "### Principles are language-agnostic\n",
    "\n",
    "1. Separate code from data in a way that the code resides in functions whose behavior does not depend on data that is encapsulated in the function’s context.\n",
    "2. Data is represented with generic data structures, such as maps (or dictionaries) and arrays (or lists).\n",
    "3. Data should never change! Instead of mutating data, a new version of it is created.\n",
    "4. The expected shape of data (it's schema) is represented as (meta) data that is kept separately from the main data representation."
   ]
  },
  {
   "cell_type": "code",
   "execution_count": null,
   "id": "73c4b8ef-0050-4650-bb98-f99a976106cb",
   "metadata": {},
   "outputs": [],
   "source": [
    "# Principle #1\n",
    "from dataclasses import dataclass\n",
    "\n",
    "# A natural way of adhering to this principle in Python is to use top-level functions (for code)\n",
    "# and data classes that only have fields (for data).\n",
    "\n",
    "@dataclass     # <- a decorator! (a function that takes a function)\n",
    "               # automatically adds generated special methods such as __init__() and __repr__() to user-defined classes\n",
    "class AuthorData:\n",
    "    \"\"\"Class for keeping track of an author in the system\"\"\"\n",
    "\n",
    "    first_name: str\n",
    "    last_name: str\n",
    "    n_books: int\n",
    "\n",
    "# The code that deals with full name calculation is separate from the code that deals with the creation of author data.\n",
    "def calculate_name(first_name: str, last_name: str):\n",
    "    return f\"{first_name} {last_name}\"\n",
    "\n",
    "author_data = AuthorData(\"Isaac\", \"Asimov\", 500)\n",
    "calculate_name(author_data.first_name, author_data.last_name)"
   ]
  },
  {
   "cell_type": "code",
   "execution_count": null,
   "id": "91331417-aaae-466e-9b1a-34a42ddc378a",
   "metadata": {},
   "outputs": [],
   "source": [
    "# Principle #2\n",
    "# the \"class\" defines a schema, or how information is organized\n",
    "class FullName:\n",
    "    def __init__(self, first_name, last_name, suffix):\n",
    "        self.first_name = first_name\n",
    "        self.last_name = last_name\n",
    "        self.suffix = suffix\n",
    "\n",
    "obj = FullName(fist_name=\"Jane\", last_name=\"Doe\", suffix=\"II\") # this leads to an actual error"
   ]
  },
  {
   "cell_type": "code",
   "execution_count": null,
   "id": "a527e265-9e37-4117-91ea-a98adfb68731",
   "metadata": {},
   "outputs": [],
   "source": [
    "# Principle #2\n",
    "# using a generic data structure is easier, but can lead to errors\n",
    "\n",
    "# The existence of data schema at a class level makes it easy to discover the expected data shape.\n",
    "# When data is represented with generic data structures, data schema is not part of the\n",
    "# data representation.\n",
    "\n",
    "names = []\n",
    "names.append({\"first_name\": \"Jane\", \"last_name\": \"Doe\", \"suffix\": \"III\"})\n",
    "names.append({\"first_name\": \"Isaac\", \"last_name\": \"Asimov\"})\n",
    "names.append({\"fist_name\": \"John\", \"last_name\": \"Smith\"}) # error, \"fist_name\" should be \"first_name\"\n",
    "\n",
    "print(f\"{names[2].get('first_name')} {names[2].get('last_name')}\")\n",
    "# no schema, and using a generic data structure leads to a silent error - \"None\" is printed"
   ]
  },
  {
   "cell_type": "code",
   "execution_count": null,
   "id": "620f91d7-7d2c-4259-adcd-bb70991dfac4",
   "metadata": {},
   "outputs": [],
   "source": [
    "# Principle #3\n",
    "from dataclasses import dataclass\n",
    "\n",
    "# The immutable data types in built-in Python are int, float, decimal, bool,\n",
    "# string , tuple and range. Note that dict , list and set are mutable.\n",
    "@dataclass(frozen=True)\n",
    "class AuthorData:\n",
    "    \"\"\"Class for keeping track of an author in the system\"\"\"\n",
    "\n",
    "    first_name: str\n",
    "    last_name: str\n",
    "    n_books: int"
   ]
  },
  {
   "cell_type": "code",
   "execution_count": null,
   "id": "5ccafa85-7d6f-476a-9b38-2dd37b7403d7",
   "metadata": {},
   "outputs": [],
   "source": [
    "# Principle #3\n",
    "# list is mutable\n",
    "def append_to_list(el, ls=[]):\n",
    "    ls.append(el)\n",
    "    return ls\n",
    "\n",
    "print(append_to_list(1))   # [1]\n",
    "print(append_to_list(2))   # [1, 2]\n",
    "print(append_to_list(3))   # [1, 2, 3]"
   ]
  },
  {
   "cell_type": "code",
   "execution_count": null,
   "id": "8f943314-d4c5-4ebc-ad88-84fdd87ed15b",
   "metadata": {},
   "outputs": [],
   "source": [
    "# Principle #3\n",
    "# fix to make list immutable\n",
    "def append_to_list(el, ls=None):\n",
    "    if ls is None:\n",
    "        ls = []    \n",
    "    ls.append(el)\n",
    "    return ls\n",
    "\n",
    "print(append_to_list(1))   # [1]\n",
    "print(append_to_list(2))   # [2]"
   ]
  },
  {
   "cell_type": "markdown",
   "id": "1caff9c2-cc1b-4759-89c3-134b772d1cb7",
   "metadata": {},
   "source": [
    "### Free concurrency safety\n",
    "\n",
    "When data is mutable in a multi-thread environment, race condition failure can occur."
   ]
  },
  {
   "cell_type": "code",
   "execution_count": null,
   "id": "5736bef0-b597-4893-a712-bfb7fabca254",
   "metadata": {},
   "outputs": [],
   "source": [
    "# Principle #3\n",
    "# list is mutable and tuple is immutable, as we expand both objects,\n",
    "# list identity remains the same whereas a brand new tuple is created with a different identity\n",
    "list1 = [1, 2, 3]\n",
    "tuple1 = (1, 2, 3)\n",
    "\n",
    "print(id(list1))   # 1859329589504\n",
    "print(id(tuple1))  # 1859328732288\n",
    "\n",
    "list1 += [4, 5]\n",
    "tuple1 += (4, 5)\n",
    "\n",
    "print(id(list1))   # 1859329589504 (identity did not change)\n",
    "print(id(tuple1))  # 1859329720944 (identity changed)\n",
    "# The need to copy contents of immutable object into a new object every time we modify\n",
    "# it requires additional memory and creates added cost on CPU power, especially for\n",
    "# a very large collection."
   ]
  },
  {
   "cell_type": "markdown",
   "id": "0d099717-fab9-4e12-8d6b-0410e764e9f8",
   "metadata": {},
   "source": [
    "## JSON Schema\n",
    "\n",
    "```json\n",
    "schema = {\n",
    "    \"required\": [\"first_name\", \"last_name\"],\n",
    "    \"properties\": {\n",
    "        \"first_name\": {\"type\": str},\n",
    "        \"last_name\": {\"type\": str},\n",
    "        \"books\": {\"type\": int},\n",
    "    }\n",
    "}\n",
    "```"
   ]
  },
  {
   "cell_type": "markdown",
   "id": "e07ae24e-9d8f-421f-8a4d-bf995f9b2939",
   "metadata": {},
   "source": [
    "## Asynchronous Programming\n",
    "\n",
    "Asynchronous programming is a type of parallel programming in which a unit of work is allowed to run separately from the primary application thread\n",
    "\n",
    "![Async Programming](gfx/async-programming.png)\n",
    "\n",
    "## How Does Python Do Multiple Things at Once?\n",
    "\n",
    "![Programming Models](gfx/programming-models.png)\n",
    "\n",
    "The OS is not participating. As far as OS is concerned you’re going to have one process and there’s going to be a single thread within that process, but you’ll be able to do multiple things at once."
   ]
  },
  {
   "cell_type": "markdown",
   "id": "1efbc26c-f61f-4fa6-aa51-cf2afc02e534",
   "metadata": {},
   "source": [
    "## AsyncIO\n",
    "\n",
    "- asyncio is the new concurrency module introduced in Python 3.4. It is designed to use coroutines and futures to simplify asynchronous code and make it almost as readable as synchronous code as there are no callbacks.\n",
    "\n",
    "- asyncio uses different constructs: event loops, coroutines and futures."
   ]
  },
  {
   "cell_type": "code",
   "execution_count": null,
   "id": "9a935417-9f4d-45f9-a3f5-ebf550bae1c2",
   "metadata": {},
   "outputs": [],
   "source": []
  },
  {
   "cell_type": "code",
   "execution_count": null,
   "id": "32cbe1c5-56cd-4d7f-8106-091d31e9d269",
   "metadata": {},
   "outputs": [],
   "source": []
  }
 ],
 "metadata": {
  "kernelspec": {
   "display_name": "Python 3 (ipykernel)",
   "language": "python",
   "name": "python3"
  },
  "language_info": {
   "codemirror_mode": {
    "name": "ipython",
    "version": 3
   },
   "file_extension": ".py",
   "mimetype": "text/x-python",
   "name": "python",
   "nbconvert_exporter": "python",
   "pygments_lexer": "ipython3",
   "version": "3.13.7"
  }
 },
 "nbformat": 4,
 "nbformat_minor": 5
}
