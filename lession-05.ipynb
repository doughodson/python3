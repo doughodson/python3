{
 "cells": [
  {
   "cell_type": "markdown",
   "id": "1ba60df5-db1a-4553-adc6-582af3e7703c",
   "metadata": {},
   "source": [
    "## Data-Oriented and ASyncIO\n",
    "\n",
    "Reference\n",
    "\n",
    "- https://towardsdatascience.com/data-oriented-programming-with-python-ef478c43a874/\n",
    "- https://medium.com/@moraneus/mastering-pythons-asyncio-a-practical-guide-0a673265cf04\n",
    "- https://medium.com/velotio-perspectives/an-introduction-to-asynchronous-programming-in-python-af0189a88bbb\n",
    "- https://realpython.com/python-async-features/\n",
    "- https://realpython.com/async-io-python/\n",
    "- https://docs.python.org/3/library/asyncio-task.html"
   ]
  },
  {
   "cell_type": "markdown",
   "id": "e9bc660e-e247-41f4-ac89-79dbdb209794",
   "metadata": {},
   "source": [
    "## Data-Oriented\n",
    "\n",
    "A recap on Data-Oriented Programming by Yehonathan Sharvit (book published in 2022). Book used JavaScript and Java, in this treatment Python is used\n",
    "\n",
    "![DOD Book Cover](gfx/dod-book-cover.png)\n",
    "\n",
    "Python is a hybrid of OOP and FP\n",
    "\n",
    "### Principles are language-agnostic\n",
    "\n",
    "1. Separate code from data in a way that the code resides in functions whose behavior does not depend on data that is encapsulated in the function’s context.\n",
    "2. Data is represented with generic data structures, such as maps (or dictionaries) and arrays (or lists).\n",
    "3. Data should never change! Instead of mutating data, a new version of it is created.\n",
    "4. The expected shape of data (it's schema) is represented as (meta) data that is kept separately from the main data representation."
   ]
  },
  {
   "cell_type": "code",
   "execution_count": null,
   "id": "73c4b8ef-0050-4650-bb98-f99a976106cb",
   "metadata": {},
   "outputs": [],
   "source": [
    "# Principle #1\n",
    "from dataclasses import dataclass\n",
    "\n",
    "# A natural way of adhering to this principle in Python is to use top-level functions (for code)\n",
    "# and data classes that only have fields (for data).\n",
    "\n",
    "@dataclass     # <- a decorator! (a function that takes a function)\n",
    "               # automatically adds generated special methods such as __init__() and __repr__() to user-defined classes\n",
    "class AuthorData:\n",
    "    \"\"\"Class for keeping track of an author in the system\"\"\"\n",
    "\n",
    "    first_name: str\n",
    "    last_name: str\n",
    "    n_books: int\n",
    "\n",
    "# The code that deals with full name calculation is separate from the code that deals with the creation of author data.\n",
    "def calculate_name(first_name: str, last_name: str):\n",
    "    return f\"{first_name} {last_name}\"\n",
    "\n",
    "author_data = AuthorData(\"Isaac\", \"Asimov\", 500)\n",
    "calculate_name(author_data.first_name, author_data.last_name)"
   ]
  },
  {
   "cell_type": "code",
   "execution_count": null,
   "id": "91331417-aaae-466e-9b1a-34a42ddc378a",
   "metadata": {},
   "outputs": [],
   "source": [
    "# Principle #2\n",
    "# the \"class\" defines a schema (how information is organized)\n",
    "class FullName:\n",
    "    def __init__(self, first_name, last_name, suffix):\n",
    "        self.first_name = first_name\n",
    "        self.last_name = last_name\n",
    "        self.suffix = suffix\n",
    "\n",
    "obj = FullName(fist_name=\"Jane\", last_name=\"Doe\", suffix=\"II\") # this leads to an actual error"
   ]
  },
  {
   "cell_type": "code",
   "execution_count": null,
   "id": "a527e265-9e37-4117-91ea-a98adfb68731",
   "metadata": {},
   "outputs": [],
   "source": [
    "# Principle #2\n",
    "# using a generic data structure is easier, but can lead to errors\n",
    "\n",
    "# The existence of data schema at a class level makes it easy to discover the expected data shape.\n",
    "# When data is represented with generic data structures, data schema is not part of the\n",
    "# data representation.\n",
    "\n",
    "names = []\n",
    "names.append({\"first_name\": \"Jane\", \"last_name\": \"Doe\", \"suffix\": \"III\"})\n",
    "names.append({\"first_name\": \"Isaac\", \"last_name\": \"Asimov\"})\n",
    "names.append({\"fist_name\": \"John\", \"last_name\": \"Smith\"}) # error, \"fist_name\" should be \"first_name\"\n",
    "\n",
    "print(f\"{names[2].get('first_name')} {names[2].get('last_name')}\")\n",
    "# no schema, and using a generic data structure leads to a silent error - \"None\" is printed"
   ]
  },
  {
   "cell_type": "code",
   "execution_count": null,
   "id": "620f91d7-7d2c-4259-adcd-bb70991dfac4",
   "metadata": {},
   "outputs": [],
   "source": [
    "# Principle #3\n",
    "from dataclasses import dataclass\n",
    "\n",
    "# The immutable data types in built-in Python are int, float, decimal, bool,\n",
    "# string , tuple and range. Note that dict, list and set are mutable.\n",
    "@dataclass(frozen=True)\n",
    "class AuthorData:\n",
    "    \"\"\"Class for keeping track of an author in the system\"\"\"\n",
    "\n",
    "    first_name: str\n",
    "    last_name: str\n",
    "    n_books: int"
   ]
  },
  {
   "cell_type": "markdown",
   "id": "1caff9c2-cc1b-4759-89c3-134b772d1cb7",
   "metadata": {},
   "source": [
    "### Free concurrency safety\n",
    "\n",
    "When data is mutable in a multi-thread environment, race condition failure can occur."
   ]
  },
  {
   "cell_type": "code",
   "execution_count": null,
   "id": "5736bef0-b597-4893-a712-bfb7fabca254",
   "metadata": {},
   "outputs": [],
   "source": [
    "# Principle #3\n",
    "# list is mutable and tuple is immutable, as we expand both objects,\n",
    "# list identity remains the same whereas a brand new tuple is created with a different identity\n",
    "list1 = [1, 2, 3]\n",
    "tuple1 = (1, 2, 3)\n",
    "\n",
    "print(id(list1))   # 1859329589504\n",
    "print(id(tuple1))  # 1859328732288\n",
    "\n",
    "list1 += [4, 5]\n",
    "tuple1 += (4, 5)\n",
    "\n",
    "print(id(list1))   # 1859329589504 (identity did not change)\n",
    "print(id(tuple1))  # 1859329720944 (identity changed)\n",
    "# The need to copy contents of immutable object into a new object every time we modify\n",
    "# it requires additional memory and creates added cost on CPU power, especially for\n",
    "# a very large collection."
   ]
  },
  {
   "cell_type": "markdown",
   "id": "314b7eaa-7a6b-4514-8988-6b841f4a7d56",
   "metadata": {},
   "source": [
    "## Getting Things Done (Leveraging What You Have)\n",
    "\n",
    "- I/O-bound vs CPU-bound tasks\n",
    "- Turn serial operations into parallel ones"
   ]
  },
  {
   "cell_type": "markdown",
   "id": "2f3a32a0-b77a-450d-9985-093a4f0e29a4",
   "metadata": {},
   "source": [
    "## Concurrency Models\n",
    "\n",
    "Before exploring asyncio, it’s worth taking a moment to compare async I/O with other concurrency models to see how it fits.\n",
    "\n",
    "### Terms\n",
    "\n",
    "- **Parallelism** consists of executing multiple operations at the same time. (Maybe several threads or \"cores\", maybe SIMD instructions.)\n",
    "- **Multiprocessing** is a means of achieving parallelism that entails spreading tasks over a computer’s central processing unit (CPU) cores. Multiprocessing is well-suited for CPU-bound tasks, such as tightly bound for loops and mathematical computations.\n",
    "- **Concurrency** is a slightly broader term than parallelism, suggesting that multiple tasks have the ability to run in an overlapping manner. Concurrency doesn’t necessarily imply parallelism.\n",
    "- **Threading** is a concurrent execution model in which multiple threads take turns executing tasks. A single process can contain multiple threads. Python’s relationship with threading is complicated due to the global interpreter lock (GIL).\n",
    "\n",
    "Threading is good for I/O-bound tasks, but there is overhead."
   ]
  },
  {
   "cell_type": "markdown",
   "id": "e07ae24e-9d8f-421f-8a4d-bf995f9b2939",
   "metadata": {},
   "source": [
    "## Asynchronous Programming\n",
    "\n",
    "Asynchronous programming is a type of parallel programming in which a unit of work is allowed to run separately from the primary application thread\n",
    "\n",
    "![Async Programming](gfx/async-programming.png)\n",
    "\n",
    "Async I/O isn't a new concept. It exists in - or is being built into - other languages such as Go, C#, and Rust.\n",
    "\n",
    "## How Does Python Do Multiple Things at Once?\n",
    "\n",
    "![Programming Models](gfx/programming-models.png)\n",
    "\n",
    "The OS is not participating. As far as OS is concerned you’re going to have one process and there’s going to be a single thread within that process, but you’ll be able to do multiple things at once.\n",
    "\n",
    "# **Async I/O ISN'T threading!!!!**\n",
    "\n",
    "\n",
    "![Concurrency vs Parallelism](gfx/concurrency-vs-parallelism.png)\n"
   ]
  },
  {
   "cell_type": "markdown",
   "id": "1efbc26c-f61f-4fa6-aa51-cf2afc02e534",
   "metadata": {},
   "source": [
    "## Understanding AsyncIO\n",
    "\n",
    "- **asyncio** is the new concurrency module introduced in Python 3.4. It is designed to use coroutines and futures to simplify asynchronous code and make it almost as readable as synchronous code.\n",
    "- **asyncio** is all about writing code that can do multiple things at once, without actually doing them at the same time.\n",
    "---\n",
    "- **Event Loop** : The central execution device provided by asyncio. It manages and distributes the execution of different tasks. It's responsible for handling events and scheduling asynchronous routines.\n",
    "- **Coroutines** : Asynchronous functions declared with **async def**. These functions can be paused and resumed at await points, allowing I/O operations to run in the background.\n",
    "- **Futures** : Objects that represent the result of work that has not yet been completed. They are returned from tasks scheduled by the event loop.\n",
    "- **Tasks** : Scheduled coroutines that are wrapped into a Future object by the event loop, allowing their execution."
   ]
  },
  {
   "cell_type": "markdown",
   "id": "d3280c0f-0f3d-4934-9e46-a2e4b587c6a8",
   "metadata": {},
   "source": [
    "## AsyncIO Explained\n",
    "\n",
    "Chess master Judit Polgár hosts a chess exhibition in which she plays multiple amateur players. She has two ways of conducting the exhibition: synchronously and asynchronously.\n",
    "\n",
    "Assumptions:\n",
    "\n",
    "- 24 opponents\n",
    "- Judit makes each chess move in 5 seconds\n",
    "- Opponents each take 55 seconds to make a move\n",
    "- Games average 30 pair-moves (60 moves total)\n",
    "\n",
    "Synchronous version: Judit plays one game at a time, never several at the same time, until the game is complete. Each game takes (55 + 5) * 30 == 1800 seconds, or 30 minutes. The entire exhibition takes 24 * 30 == 720 minutes, or 12 hours.\n",
    "\n",
    "Asynchronous version: Judit moves from table to table, making one move at each table. She leaves the table and lets the opponent make their next move during the wait time. One move on all 24 games takes Judit 24 * 5 == 120 seconds, or 2 minutes. The entire exhibition is now cut down to 120 * 30 == 3600 seconds, or just 1 hour.\n",
    "\n",
    "Using async package adds two keywords **aync** and **await**.\n",
    "\n",
    "- The **async** def syntax construct introduces either a coroutine function or an asynchronous generator.\n",
    "- The **await** keyword suspends the execution of the surrounding coroutine and passes control back to the event loop. It is used to pause the execution of an async function until an awaitable object (like coroutines, Tasks, Futures, or I/O) completes, allowing other tasks to run in the meantime. Its primary purpose is to yield control back to the event loop, suspending the execution of the enclosing coroutine until the awaited object is resolved. This non-blocking behavior is what makes asynchronous programming efficient, especially for I/O-bound tasks.\n",
    "\n",
    "asyncio is not part of the Python standard library, it is included with Python by default."
   ]
  },
  {
   "cell_type": "code",
   "execution_count": null,
   "id": "1196c649-90f8-4e47-af5b-a85b405871b8",
   "metadata": {},
   "outputs": [],
   "source": [
    "# synchronous code\n",
    "import time\n",
    "\n",
    "def say_hello():\n",
    "    time.sleep(2)\n",
    "    print(\"Hello, World!\")\n",
    "\n",
    "say_hello()"
   ]
  },
  {
   "cell_type": "code",
   "execution_count": null,
   "id": "0ccab625-b03e-4ac9-9bed-6e697c75c0b1",
   "metadata": {},
   "outputs": [],
   "source": [
    "# asynchronous code\n",
    "\n",
    "# the following code allows asyncio to work \"inside\" of jupyter instance\n",
    "import nest_asyncio\n",
    "nest_asyncio.apply()\n",
    "\n",
    "import asyncio\n",
    "\n",
    "async def say_hello():\n",
    "    await asyncio.sleep(2)\n",
    "    print(\"Hello, World!\")\n",
    "\n",
    "asyncio.run(say_hello())"
   ]
  },
  {
   "cell_type": "markdown",
   "id": "87d48cb3-2a05-4875-8075-3957271638a1",
   "metadata": {},
   "source": [
    "## Basically it turns a I/O \"blocking\" call into \"non-blocking\""
   ]
  },
  {
   "cell_type": "markdown",
   "id": "4a2d954e-f706-441f-a62e-51c871dcf1fa",
   "metadata": {},
   "source": []
  },
  {
   "cell_type": "code",
   "execution_count": null,
   "id": "48010442-0b4f-4a0a-a958-a3f11e3a3abf",
   "metadata": {},
   "outputs": [],
   "source": [
    "# synchronous function\n",
    "def f():\n",
    "    print(\"hello\")\n",
    "\n",
    "# asynchronous function\n",
    "async def g():\n",
    "    result = await f() # pause and come back to g() when f() returns\n",
    "    return result\n",
    "\n",
    "print(type(f))\n",
    "print(type(g))\n",
    "\n",
    "g()"
   ]
  },
  {
   "cell_type": "markdown",
   "id": "31133a09-5ee1-46b8-9dab-5df3920532e7",
   "metadata": {},
   "source": [
    "## There are hybrid approachs to use both synchronous and asynchronous functions"
   ]
  }
 ],
 "metadata": {
  "kernelspec": {
   "display_name": "Python 3 (ipykernel)",
   "language": "python",
   "name": "python3"
  },
  "language_info": {
   "codemirror_mode": {
    "name": "ipython",
    "version": 3
   },
   "file_extension": ".py",
   "mimetype": "text/x-python",
   "name": "python",
   "nbconvert_exporter": "python",
   "pygments_lexer": "ipython3",
   "version": "3.13.7"
  }
 },
 "nbformat": 4,
 "nbformat_minor": 5
}
