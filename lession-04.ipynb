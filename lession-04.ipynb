{
 "cells": [
  {
   "attachments": {},
   "cell_type": "markdown",
   "id": "bcf5e731-ca55-4367-9e0d-659922c75c19",
   "metadata": {},
   "source": [
    "## Programming Paradigms\n",
    "\n",
    "- A method to solve some problems or do some tasks.\n",
    "- Approach to solve the problem using some programming language or also we can say it is a method to solve a problem using tools and techniques that are available to us following some approach.\n",
    "\n",
    "## Paradigms\n",
    "\n",
    "- Imperative programming paradigm: seeing computation and programs as sequential computation (like a recipe book)\n",
    "- Declarative programming paradigm: defining what you want want the results of a computation, but not how to get it\n",
    "\n",
    "### References\n",
    "\n",
    "- https://en.wikipedia.org/wiki/Programming_paradigm\n",
    "- https://www.geeksforgeeks.org/python/programming-paradigms-in-python/\n",
    "- https://www.youtube.com/watch?v=LhdivDCckBY\n",
    "\n",
    "### Usually leveraging multi-paradigms is the best approach.\n",
    "- Reduce the scope of variables.\n",
    "- Make things immutable.\n",
    "- Avoid modifying state. (Keep status immutable.)\n",
    "\n",
    "---"
   ]
  },
  {
   "cell_type": "markdown",
   "id": "85d0f2b0-113d-40bf-acde-aa7a3bafb17c",
   "metadata": {
    "editable": true
   },
   "source": [
    "## Object-oriented programming paradigm\n",
    "\n",
    "Python is an object-oriented language, allowing you to structure your code using classes and objects for better organization and reusability.\n",
    "\n",
    "![OOP Concepts](gfx/oop-concepts.png)\n",
    "\n",
    "### Concepts\n",
    "\n",
    "1. Object: instance of a class\n",
    "2. Encapsulation: the bundling of data (attributes) and methods (functions) within a class, restricting access to some components to control interactions\n",
    "3. Polymorphism: means \"same operation, different behavior\"\n",
    "4. Inheritance: allows a class (child class) to acquire properties and methods of another class (parent class)\n",
    "5. Abstraction: hides the internal implementation details while exposing only the necessary functionality. It helps focus on \"what to do\" rather than \"how to do it\"\n",
    "6. Class: blueprint for creating objects\n",
    "\n",
    "### Advantages\n",
    "\n",
    "- Provides a clear structure to programs\n",
    "- Makes code easier to maintain, reuse, and debug\n",
    "- Helps keep your code DRY (Don't Repeat Yourself)\n",
    "- Allows you to build reusable applications with less code\n",
    "\n",
    "### Disadvantages\n",
    "\n",
    "- Data and functions are bound together - you are encouraged to 'hide data'\n",
    "- Interfacing with a database can be a nightmare\n",
    "- Objects tend to be scattered all over memory\n",
    "\n",
    "### References\n",
    "\n",
    "- https://www.w3schools.com/python/python_oop.asp\n",
    "- https://www.geeksforgeeks.org/python/python-oops-concepts/\n",
    "\n",
    "### Steps\n",
    "\n",
    "1. Create/define a class\n",
    "2. Create objects\n",
    "3. Access class members\n",
    "\n",
    "### Classes and Objects\n",
    "\n",
    "| Class | Objects |\n",
    "|:------|:--------|\n",
    "| Fruit | Apple, Banana, Mango|\n",
    "| Car   | Volvo, Audio, Toyota|"
   ]
  },
  {
   "cell_type": "code",
   "execution_count": null,
   "id": "6421ba3e-7b85-4045-a3cf-8f031fdea89e",
   "metadata": {},
   "outputs": [],
   "source": [
    "# define a class\n",
    "class MyClass:\n",
    "    x = 5 # this define a static piece of data shared among all instances\n",
    "\n",
    "# create an object\n",
    "p1 = MyClass()\n",
    "print(type(p1))\n",
    "# print object field\n",
    "print(p1.x)"
   ]
  },
  {
   "cell_type": "code",
   "execution_count": null,
   "id": "2a000250-2655-48f0-96be-a281b4d9fa99",
   "metadata": {},
   "outputs": [],
   "source": [
    "# define a class\n",
    "class MyClass:\n",
    "    x = 5\n",
    "\n",
    "print(dir(MyClass))\n",
    "print(MyClass.x)"
   ]
  },
  {
   "cell_type": "code",
   "execution_count": null,
   "id": "29c22969-9129-4456-9c1b-b837885c528a",
   "metadata": {},
   "outputs": [],
   "source": [
    "# define a class\n",
    "class MyClass:\n",
    "    x = 5\n",
    "\n",
    "print(MyClass.x)\n",
    "# modify class attribute for \"x\"\n",
    "MyClass.x = 20\n",
    "print(MyClass.x)"
   ]
  },
  {
   "cell_type": "markdown",
   "id": "16072192-fae9-4c17-b295-efdc7c26b982",
   "metadata": {},
   "source": [
    "## Attributes: Class vs Instance\n",
    "\n",
    "BLUF: class attributes are shared across all instances, while instance attributes are unique to each object\n",
    "\n",
    "### Reference\n",
    "\n",
    "- https://builtin.com/software-engineering-perspectives/python-attributes"
   ]
  },
  {
   "cell_type": "markdown",
   "id": "38072d9d-6d9b-4b84-a7ac-1386c268665b",
   "metadata": {},
   "source": [
    "## Differences between Old-Style and New-Style Classes\n",
    "\n",
    "|Feature                   |Old-Style Classes                         |New-Style Classes                                |\n",
    "|:--------------------------|:------------------------------------------|:-------------------------------------------------|\n",
    "|Definition                 |Do not inherit from an object.             |Inherit from an object or another new-style class.|\n",
    "|Syntax                     |class OldStyleClass:                       |class NewStyleClass(object):<br> class NewStyleClass: |\n",
    "|Type of Instance           |<type 'instance'>                          |The class itself, e.g., <class '\\_\\_main\\_\\_.NewStyle'>|\n",
    "|Inheritance                |No explicit inheritance from the object.   |Explicit inheritance from an object or implicitly in Python 3.|\n",
    "|Method Resolution Order    |Depth-first, left-to-right.                |C3 linearization (more predictable and consistent).|\n",
    "|Descriptors and Properties |Limited or no support.                     |Full support for descriptors, properties, and \\_\\_slots\\_\\_.|\n",
    "|Built-in Functions         |Some built-in functions behave differently.|Full support for special methods, including \\_\\_getattr\\_\\_, \\_\\_setattr\\_\\_, etc.|\n",
    "|Super() Function           |super() does not work.|Used to call methods from a parent class.|\n",
    "|Class Attribute            |Instances have \\_\\_class\\_\\_ attribute but less useful.|Instances have \\_\\_class\\_\\_ attribute that points to the class.|\n",
    "|Use in Python 3            |Not applicable (Python 3 does not have old-style classes).|All classes are new-style by default.|"
   ]
  },
  {
   "cell_type": "code",
   "execution_count": null,
   "id": "9fd626e2-474f-477b-98e9-22cb7170e180",
   "metadata": {},
   "outputs": [],
   "source": [
    "# define a class\n",
    "class Person:\n",
    "    def __init__(self, name, age): # self is a parameter that is a reference to the current instance of the class\n",
    "                                   # calling it \"self\" is by convention, you can call it anything\n",
    "        self.name = name\n",
    "        self.age = age\n",
    "\n",
    "# create an object\n",
    "p1 = Person(\"John\", 36)\n",
    "# print object fields\n",
    "print(p1.name)\n",
    "print(p1.age)\n",
    "print(p1)"
   ]
  },
  {
   "cell_type": "code",
   "execution_count": null,
   "id": "4c2cb743-90b4-48ae-872f-ba1ee759d0fd",
   "metadata": {},
   "outputs": [],
   "source": [
    "# define a class, and how I'm printed\n",
    "class Person:\n",
    "    def __init__(self, name, age):\n",
    "        self.name = name\n",
    "        self.age = age\n",
    "    def __str__(self):\n",
    "        return f\"{self.name}({self.age})\"\n",
    "\n",
    "# create an object\n",
    "p1 = Person(\"John\", 36)\n",
    "# print object fields\n",
    "print(p1.name)\n",
    "print(p1.age)\n",
    "print(p1)"
   ]
  },
  {
   "cell_type": "code",
   "execution_count": null,
   "id": "1b52bbd1-d8fe-492f-9b86-660d7f69f4a9",
   "metadata": {},
   "outputs": [],
   "source": [
    "# define a class, a new method and how I'm printed\n",
    "class Person:\n",
    "    def __init__(self, name, age):\n",
    "        self.name = name\n",
    "        self.age = age\n",
    "    def __str__(this):\n",
    "        return f\"{this.name}({this.age})\"\n",
    "    def myfunc(abc):\n",
    "        print(\"Hello my name is \" + abc.name)\n",
    "\n",
    "# create an object\n",
    "p1 = Person(\"John\", 36)\n",
    "p1.myfunc()\n",
    "print(p1)"
   ]
  },
  {
   "cell_type": "code",
   "execution_count": null,
   "id": "3e033fe7-e553-477d-98dc-50f4a7085af5",
   "metadata": {},
   "outputs": [],
   "source": [
    "# define a class, a new method and how I'm printed\n",
    "class Person:\n",
    "    def __init__(self, name, age):\n",
    "        self.name = name\n",
    "        self.age = age\n",
    "    def __str__(self):\n",
    "        return f\"{self.name}({self.age})\"\n",
    "    def myfunc(abc):\n",
    "        print(\"Hello my name is \" + abc.name)\n",
    "\n",
    "# create an object\n",
    "p1 = Person(\"John\", 36)\n",
    "# modify object field\n",
    "p1.name = \"Doug\"\n",
    "p1.myfunc()\n",
    "print(p1)"
   ]
  },
  {
   "cell_type": "code",
   "execution_count": null,
   "id": "8ba766da-a391-4263-b26e-4b90c582b209",
   "metadata": {},
   "outputs": [],
   "source": [
    "# define a class, and how I'm printed\n",
    "class Person:\n",
    "    def __init__(self, name, age):\n",
    "        self.name = name\n",
    "        self.age = age\n",
    "    def __str__(self):\n",
    "        return f\"{self.name}({self.age})\"\n",
    "\n",
    "# create an object\n",
    "p1 = Person(\"John\", 36)\n",
    "# print object fields\n",
    "print(p1.name)\n",
    "print(p1.age)\n",
    "print(p1)\n",
    "print(p1.__str__())  # goal of str is to be readable\n",
    "print(p1.__repr__()) # goal of repr is to unambiguous"
   ]
  },
  {
   "cell_type": "code",
   "execution_count": null,
   "id": "1d6274d6-712f-4142-a364-d6e30c756931",
   "metadata": {
    "editable": true
   },
   "outputs": [],
   "source": [
    "# Example of inheritance\n",
    "# Define a new class called 'Person'\n",
    "class Person:\n",
    "    name = \"I'm a person\"\n",
    "\n",
    "# Define a new class called `Student` that is derived from the 'Person' type, override 'name'\n",
    "class Student(Person):\n",
    "    name = \"I'm a student\""
   ]
  },
  {
   "cell_type": "code",
   "execution_count": null,
   "id": "b1312bc5-bd0c-4c72-8d42-dc9a5bf06684",
   "metadata": {
    "editable": true
   },
   "outputs": [],
   "source": [
    "print(Person)\n",
    "print(type(Person))\n",
    "print(Student)\n",
    "print(type(Student))\n",
    "print(issubclass(Student, Person))\n",
    "print(issubclass(Student, object))"
   ]
  },
  {
   "cell_type": "code",
   "execution_count": null,
   "id": "1f7c8848-1914-41b0-80b4-00a75568003c",
   "metadata": {
    "collapsed": false,
    "editable": true,
    "jupyter": {
     "outputs_hidden": false
    }
   },
   "outputs": [],
   "source": [
    "# Create \"instances\" of our new classes (objects)\n",
    "p = Person()\n",
    "s = Student()\n",
    "print(p)\n",
    "print(p.name)\n",
    "print(type(p))\n",
    "print(s)\n",
    "print(s.name)\n",
    "print(type(s))"
   ]
  },
  {
   "cell_type": "markdown",
   "id": "5e4d62a2-12de-46ad-94a2-de617fad378f",
   "metadata": {
    "collapsed": false,
    "editable": true,
    "jupyter": {
     "outputs_hidden": false
    }
   },
   "source": [
    "## Functional Paradigm\n",
    "\n",
    "- The primary method of computation is the evaluation of functions\n",
    "- Typically plays a minor role in Python code\n",
    "- A pure function is a function whose output value follows solely from its input values without any observable side effects\n",
    "\n",
    "### Reference\n",
    "\n",
    "- https://realpython.com/python-functional-programming/"
   ]
  },
  {
   "cell_type": "code",
   "execution_count": null,
   "id": "10b2f88f-ef9b-4aea-8c7b-b8f99f7ccb69",
   "metadata": {
    "editable": true
   },
   "outputs": [],
   "source": [
    "# define a function\n",
    "def func():\n",
    "    print(\"I am function func()!\")\n",
    "\n",
    "# call function\n",
    "func()\n",
    "\n",
    "# give the function another name\n",
    "another_name = func\n",
    "another_name()\n"
   ]
  },
  {
   "cell_type": "code",
   "execution_count": null,
   "id": "4205969c-3db0-4160-80c6-056abf64a45f",
   "metadata": {
    "editable": true
   },
   "outputs": [],
   "source": [
    "# a higher order function\n",
    "\n",
    "def inner():\n",
    "    print(\"I am function inner()!\")\n",
    "\n",
    "\n",
    "def outer(function):\n",
    "    function()\n",
    "\n",
    "\n",
    "# this is known as a function composition\n",
    "outer(inner)"
   ]
  },
  {
   "cell_type": "code",
   "execution_count": null,
   "id": "03e3cfa7-3f1c-49d6-b100-4e66b6ad86d7",
   "metadata": {
    "editable": true
   },
   "outputs": [],
   "source": [
    "# a function using another function\n",
    "#\n",
    "# by default the sorted function sorts lexical order\n",
    "animals = [\"ferret\", \"vole\", \"dog\", \"gecko\"]\n",
    "print(sorted(animals))\n",
    "# \n",
    "animals = [\"ferret\", \"vole\", \"dog\", \"gecko\"]\n",
    "print(sorted(animals, key=len))"
   ]
  },
  {
   "cell_type": "code",
   "execution_count": null,
   "id": "5f2eb356-98f2-4ba0-9480-d6bb362f79dd",
   "metadata": {
    "editable": true
   },
   "outputs": [],
   "source": [
    "# lambda example\n",
    "animals = [\"ferret\", \"vole\", \"dog\", \"gecko\"]\n",
    "sorted(animals, key=lambda s: len(s))"
   ]
  },
  {
   "cell_type": "code",
   "execution_count": null,
   "id": "ce9aac51-58a6-40ea-9c65-70ccf3a0367d",
   "metadata": {
    "editable": true
   },
   "outputs": [],
   "source": [
    "# a function can return another function\n",
    "def outer():\n",
    "    def inner():\n",
    "        print(\"I am function inner()!\")\n",
    "    # Function outer() returns function inner()\n",
    "    return inner\n",
    "\n",
    "function = outer()\n",
    "print(function)\n",
    "function()\n",
    "\n",
    "outer()()"
   ]
  }
 ],
 "metadata": {
  "kernelspec": {
   "display_name": "Python 3 (ipykernel)",
   "language": "python",
   "name": "python3"
  },
  "language_info": {
   "codemirror_mode": {
    "name": "ipython",
    "version": 3
   },
   "file_extension": ".py",
   "mimetype": "text/x-python",
   "name": "python",
   "nbconvert_exporter": "python",
   "pygments_lexer": "ipython3",
   "version": "3.13.7"
  }
 },
 "nbformat": 4,
 "nbformat_minor": 5
}
