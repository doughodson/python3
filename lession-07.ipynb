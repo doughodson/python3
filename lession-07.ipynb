{
 "cells": [
  {
   "cell_type": "markdown",
   "id": "f721b71a-337e-41ad-aa93-8b2b09f51519",
   "metadata": {},
   "source": [
    "## Installing Other Packages\n",
    "\n",
    "For example\n",
    "- numpy\n",
    "- pandas\n",
    "- matplotlib\n",
    "- seaborn\n",
    "- folium\n",
    "- geopy\n",
    "- plotly"
   ]
  },
  {
   "cell_type": "code",
   "execution_count": null,
   "id": "b1d50ab1-e96d-44a3-a24b-0836f52d379b",
   "metadata": {},
   "outputs": [],
   "source": [
    "# numpy is short for Numerical Python\n",
    "%pip install numpy"
   ]
  },
  {
   "cell_type": "markdown",
   "id": "6ca6b877-d56e-472f-90fc-fd085b9ad32d",
   "metadata": {},
   "source": [
    "## After installing numpy (which, by defaut installs the latest version)\n",
    "\n",
    "![numpy Install](gfx/install-numpy.png)\n",
    "\n",
    "A new package shows up in site-packages directory"
   ]
  },
  {
   "cell_type": "code",
   "execution_count": null,
   "id": "9e0205f4-d0d2-45a6-8d4f-cf978371704c",
   "metadata": {},
   "outputs": [],
   "source": [
    "# import and display version\n",
    "import numpy as np\n",
    "np.__version__"
   ]
  },
  {
   "cell_type": "code",
   "execution_count": null,
   "id": "3d9f1be6-a8f2-4c93-b0b6-7b63be36b676",
   "metadata": {},
   "outputs": [],
   "source": [
    "# numpy example\n",
    "import numpy as np\n",
    "\n",
    "# Create a 1D array\n",
    "arr_1d = np.array([1, 2, 3, 4, 5])\n",
    "print(f\"1D Array: {arr_1d}\")\n",
    "\n",
    "# Create a 2D array (matrix)\n",
    "arr_2d = np.array([[1, 2, 3], [4, 5, 6]])\n",
    "print(f\"2D Array:\\n{arr_2d}\")\n",
    "\n",
    "# Check the type and shape of an array\n",
    "print(f\"Type of arr_1d: {type(arr_1d)}\")\n",
    "print(f\"Shape of arr_2d: {arr_2d.shape}\")"
   ]
  },
  {
   "cell_type": "code",
   "execution_count": null,
   "id": "91b9aea8-0664-4952-bdec-22b6322986b2",
   "metadata": {},
   "outputs": [],
   "source": [
    "# data analysis and manipulation tool\n",
    "%pip install pandas"
   ]
  },
  {
   "cell_type": "code",
   "execution_count": null,
   "id": "251b1f32-32e6-45db-83af-f7e98676b002",
   "metadata": {},
   "outputs": [],
   "source": [
    "# import and display version\n",
    "import pandas as pd\n",
    "pd.__version__"
   ]
  },
  {
   "cell_type": "code",
   "execution_count": null,
   "id": "9cc45ee0-266d-4c20-863c-9952d043aeae",
   "metadata": {},
   "outputs": [],
   "source": [
    "import pandas as pd\n",
    "s = pd.Series([1, 3, 5, np.nan, 6, 8])\n",
    "print(s)"
   ]
  },
  {
   "cell_type": "code",
   "execution_count": null,
   "id": "a4ee9f7b-35c9-4a7b-80d2-b6f566bd2a46",
   "metadata": {},
   "outputs": [],
   "source": [
    "import pandas as pd\n",
    "dates = pd.date_range(\"20130101\", periods=6)\n",
    "df = pd.DataFrame(np.random.randn(6, 4), index=dates, columns=list(\"ABCD\"))\n",
    "df"
   ]
  },
  {
   "cell_type": "code",
   "execution_count": null,
   "id": "3835aa39-5963-4c71-a8f9-cfd5aa085676",
   "metadata": {},
   "outputs": [],
   "source": [
    "# install a specific version\n",
    "%pip install matplotlib==3.8.4"
   ]
  },
  {
   "cell_type": "code",
   "execution_count": null,
   "id": "d495461c-8a2b-43de-a6f8-56f1004aaba7",
   "metadata": {},
   "outputs": [],
   "source": [
    "import matplotlib\n",
    "matplotlib.__version__"
   ]
  },
  {
   "cell_type": "code",
   "execution_count": null,
   "id": "b0da4642-c936-4cbb-9ce1-b4f2f6a34892",
   "metadata": {},
   "outputs": [],
   "source": [
    "import matplotlib.pyplot as plt\n",
    "\n",
    "x = [1, 2, 3, 4, 5]\n",
    "y = [2, 4, 6, 8, 10]\n",
    "\n",
    "plt.plot(x, y)\n",
    "plt.show()"
   ]
  },
  {
   "cell_type": "code",
   "execution_count": null,
   "id": "5d5449a5-56ce-436f-8542-896c7b0e0c36",
   "metadata": {},
   "outputs": [],
   "source": [
    "%pip install seaborn"
   ]
  },
  {
   "cell_type": "code",
   "execution_count": null,
   "id": "d7989427-db82-4d78-84cd-330a3bed5dd1",
   "metadata": {},
   "outputs": [],
   "source": [
    "# import seaborn \n",
    "import seaborn as sns \n",
    "\n",
    "# loading dataset \n",
    "data = sns.load_dataset(\"iris\") \n",
    "\n",
    "# draw lineplot \n",
    "sns.lineplot(x=\"sepal_length\", y=\"sepal_width\", data=data) "
   ]
  },
  {
   "cell_type": "code",
   "execution_count": null,
   "id": "78a47f76-dc0e-4f34-847c-f68421896e32",
   "metadata": {},
   "outputs": [],
   "source": [
    "# what datasets are available?\n",
    "import seaborn as sns\n",
    "sns.get_dataset_names()"
   ]
  },
  {
   "cell_type": "code",
   "execution_count": null,
   "id": "927667cd-53d6-45d4-b6ae-084dd540d300",
   "metadata": {},
   "outputs": [],
   "source": [
    "# seaborn with matplotlib\n",
    "import seaborn as sns \n",
    "import matplotlib.pyplot as plt \n",
    "\n",
    "# loading dataset \n",
    "data = sns.load_dataset(\"iris\") \n",
    "\n",
    "# draw lineplot \n",
    "sns.lineplot(x=\"sepal_length\", y=\"sepal_width\", data=data) \n",
    "\n",
    "# setting the title using Matplotlib\n",
    "plt.title('Title using Matplotlib Function')\n",
    "\n",
    "plt.show()"
   ]
  },
  {
   "cell_type": "code",
   "execution_count": null,
   "id": "10a17cf9-f315-43e2-81e4-9eb9b321fb02",
   "metadata": {},
   "outputs": [],
   "source": [
    "# interactive, and browser-based graphing library\n",
    "%pip install plotly"
   ]
  },
  {
   "cell_type": "code",
   "execution_count": null,
   "id": "23b93626-35b9-4a97-9644-d330605f66a6",
   "metadata": {},
   "outputs": [],
   "source": [
    "import plotly.express as px\n",
    "fig = px.scatter(x=[0, 1, 2, 3, 4], y=[0, 1, 4, 9, 16])\n",
    "fig.show()"
   ]
  },
  {
   "cell_type": "code",
   "execution_count": null,
   "id": "a0ff9f49-5f2d-428a-bc79-1a724cb277c4",
   "metadata": {},
   "outputs": [],
   "source": [
    "# install everything listed in file\n",
    "%pip install -r requirements.txt"
   ]
  },
  {
   "cell_type": "code",
   "execution_count": null,
   "id": "5fcd4e86-2ecb-441f-b0da-aad890ea1e55",
   "metadata": {},
   "outputs": [],
   "source": []
  }
 ],
 "metadata": {
  "kernelspec": {
   "display_name": "Python 3 (ipykernel)",
   "language": "python",
   "name": "python3"
  },
  "language_info": {
   "codemirror_mode": {
    "name": "ipython",
    "version": 3
   },
   "file_extension": ".py",
   "mimetype": "text/x-python",
   "name": "python",
   "nbconvert_exporter": "python",
   "pygments_lexer": "ipython3",
   "version": "3.13.7"
  }
 },
 "nbformat": 4,
 "nbformat_minor": 5
}
