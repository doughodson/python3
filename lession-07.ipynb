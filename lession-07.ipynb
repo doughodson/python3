{
 "cells": [
  {
   "cell_type": "markdown",
   "id": "f721b71a-337e-41ad-aa93-8b2b09f51519",
   "metadata": {},
   "source": [
    "## Installing Other Packages\n",
    "\n",
    "For example\n",
    "- numpy\n",
    "- matplotlib\n",
    "- pandas"
   ]
  },
  {
   "cell_type": "code",
   "execution_count": null,
   "id": "b1d50ab1-e96d-44a3-a24b-0836f52d379b",
   "metadata": {},
   "outputs": [],
   "source": []
  }
 ],
 "metadata": {
  "kernelspec": {
   "display_name": "Python 3 (ipykernel)",
   "language": "python",
   "name": "python3"
  },
  "language_info": {
   "codemirror_mode": {
    "name": "ipython",
    "version": 3
   },
   "file_extension": ".py",
   "mimetype": "text/x-python",
   "name": "python",
   "nbconvert_exporter": "python",
   "pygments_lexer": "ipython3",
   "version": "3.13.7"
  }
 },
 "nbformat": 4,
 "nbformat_minor": 5
}
