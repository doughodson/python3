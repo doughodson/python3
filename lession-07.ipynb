{
 "cells": [
  {
   "cell_type": "markdown",
   "id": "d3ee67c2-f80d-42fd-add9-6302ab579afb",
   "metadata": {},
   "source": [
    "## Misc Topics\n",
    "\n",
    "- dataclasses\n",
    "- documentation"
   ]
  },
  {
   "cell_type": "code",
   "execution_count": null,
   "id": "c4ea1f66-7f4f-4354-bcdf-0cca65da237b",
   "metadata": {},
   "outputs": [],
   "source": []
  },
  {
   "cell_type": "code",
   "execution_count": null,
   "id": "62c48c6b-990d-4034-a723-b856ff0191f3",
   "metadata": {},
   "outputs": [],
   "source": []
  }
 ],
 "metadata": {
  "kernelspec": {
   "display_name": "Python 3 (ipykernel)",
   "language": "python",
   "name": "python3"
  },
  "language_info": {
   "codemirror_mode": {
    "name": "ipython",
    "version": 3
   },
   "file_extension": ".py",
   "mimetype": "text/x-python",
   "name": "python",
   "nbconvert_exporter": "python",
   "pygments_lexer": "ipython3",
   "version": "3.13.7"
  }
 },
 "nbformat": 4,
 "nbformat_minor": 5
}
