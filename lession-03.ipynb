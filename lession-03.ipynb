{
 "cells": [
  {
   "cell_type": "markdown",
   "id": "5bf8cf0d-1a5e-404a-99d5-0748b549a111",
   "metadata": {
    "editable": true
   },
   "source": [
    "## Positional and keyword arguments to callables\n",
    "\n",
    "You can call a function/method in a number of different ways:\n",
    "\n",
    "- `func()`: Call `func` with no arguments\n",
    "- `func(arg)`: Call `func` with one positional argument\n",
    "- `func(arg1, arg2)`: Call `func` with two positional arguments\n",
    "- `func(arg1, arg2, ..., argn)`: Call `func` with many positional arguments\n",
    "- `func(kwarg=value)`: Call `func` with one keyword argument \n",
    "- `func(kwarg1=value1, kwarg2=value2)`: Call `func` with two keyword arguments\n",
    "- `func(kwarg1=value1, kwarg2=value2, ..., kwargn=valuen)`: Call `func` with many keyword arguments\n",
    "- `func(arg1, arg2, kwarg1=value1, kwarg2=value2)`: Call `func` with positonal arguments and keyword arguments\n",
    "- `obj.method()`: Same for `func`.. and every other `func` example\n",
    "\n",
    "When using **positional arguments**, you must provide them in the order that the function defined them (the function's **signature**).\n",
    "\n",
    "When using **keyword arguments**, you can provide the arguments you want, in any order you want, as long as you specify each argument's name.\n",
    "\n",
    "When using positional and keyword arguments, positional arguments must come first.\n",
    "\n",
    "### References\n",
    "\n",
    "- https://www.geeksforgeeks.org/python/keyword-and-positional-argument-in-python/"
   ]
  },
  {
   "cell_type": "code",
   "execution_count": 1,
   "id": "7fc3845c-5a25-4867-b8f1-4ee4d6a53b6a",
   "metadata": {},
   "outputs": [
    {
     "name": "stdout",
     "output_type": "stream",
     "text": [
      "Hello\n"
     ]
    }
   ],
   "source": [
    "# no arguments\n",
    "def print_hello():\n",
    "    print(\"Hello\")\n",
    "\n",
    "print_hello()"
   ]
  },
  {
   "cell_type": "code",
   "execution_count": 2,
   "id": "2055ae91-c6c4-44e0-a2e8-75c953c683d7",
   "metadata": {
    "editable": true
   },
   "outputs": [
    {
     "name": "stdout",
     "output_type": "stream",
     "text": [
      "True\n"
     ]
    }
   ],
   "source": [
    "# define a function and see if it's callable\n",
    "def func(x):\n",
    "    print(x)\n",
    "\n",
    "print(callable(func))"
   ]
  },
  {
   "cell_type": "code",
   "execution_count": 3,
   "id": "dcc1e143-9f50-4aa8-b32f-699974ed320e",
   "metadata": {
    "editable": true
   },
   "outputs": [
    {
     "name": "stdout",
     "output_type": "stream",
     "text": [
      "5\n"
     ]
    }
   ],
   "source": [
    "# define a function and call it\n",
    "def func(x):\n",
    "    print(x)\n",
    "\n",
    "func(5)"
   ]
  },
  {
   "cell_type": "code",
   "execution_count": 4,
   "id": "e4db2e9d-6971-49ad-976f-2ef68f756eba",
   "metadata": {},
   "outputs": [
    {
     "name": "stdout",
     "output_type": "stream",
     "text": [
      "Hi, I am Prince\n",
      "My age is  20\n",
      "Hi, I am Prince\n",
      "My age is  20\n"
     ]
    }
   ],
   "source": [
    "# define a function with a keyword argument and call it twice\n",
    "def name_age(name, age):\n",
    "    print(\"Hi, I am\", name)\n",
    "    print(\"My age is \", age)\n",
    "\n",
    "name_age(name=\"Prince\", age=20)\n",
    "name_age(age=20, name=\"Prince\")"
   ]
  },
  {
   "cell_type": "code",
   "execution_count": 5,
   "id": "d3ec85e8-3838-4614-9d7b-1aedff0f3334",
   "metadata": {},
   "outputs": [
    {
     "name": "stdout",
     "output_type": "stream",
     "text": [
      "Hey there, Charlie!\n"
     ]
    }
   ],
   "source": [
    "# define a function with both positional and keyword arguments\n",
    "def greet(name, greeting=\"Hello\"):\n",
    "    print(f\"{greeting}, {name}!\")\n",
    "\n",
    "# call it\n",
    "greet(\"Charlie\", greeting=\"Hey there\")"
   ]
  },
  {
   "cell_type": "code",
   "execution_count": 6,
   "id": "18606cc3-3c78-49b3-85ce-9579a3bbb4e6",
   "metadata": {},
   "outputs": [
    {
     "name": "stdout",
     "output_type": "stream",
     "text": [
      "user: Alice\n",
      "age: 30\n",
      "city: New York\n"
     ]
    }
   ],
   "source": [
    "# arbitrary keyword arguments **kwargs\n",
    "def process_data(**kwargs):\n",
    "    for key, value in kwargs.items():\n",
    "        print(f\"{key}: {value}\")\n",
    "\n",
    "process_data(user=\"Alice\", age=30, city=\"New York\")"
   ]
  },
  {
   "cell_type": "markdown",
   "id": "742cd446-a989-4883-b830-97ce9b05aeda",
   "metadata": {},
   "source": [
    "### Higher-order functions and lamba\n",
    "\n",
    "- lambda functions are anonymous functions means that the function is without a name.\n",
    "- lambda arguments : expression\n",
    "  - lambda: The keyword to define the function.\n",
    "  - arguments: A comma-separated list of input parameters (like in a regular function).\n",
    "  - expression: A single expression that is evaluated and returned.\n",
    "\n",
    "#### References\n",
    "\n",
    "- https://www.geeksforgeeks.org/python/python-lambda-anonymous-functions-filter-map-reduce/"
   ]
  },
  {
   "cell_type": "code",
   "execution_count": 7,
   "id": "52e794c6-c5cd-42e5-8f73-f11b34ceea6b",
   "metadata": {},
   "outputs": [
    {
     "name": "stdout",
     "output_type": "stream",
     "text": [
      "<class 'function'>\n",
      "<class 'int'>\n"
     ]
    }
   ],
   "source": [
    "# define a function\n",
    "def minus(a, b):\n",
    "    return a - b\n",
    "res1 = minus\n",
    "print(type(res1))\n",
    "res1 = minus(20, 10)\n",
    "print(type(res1))"
   ]
  },
  {
   "cell_type": "code",
   "execution_count": 8,
   "id": "a7d1d0c5-1839-4f3f-b095-5d76ae1534ed",
   "metadata": {},
   "outputs": [
    {
     "name": "stdout",
     "output_type": "stream",
     "text": [
      "Higher order, because I'm passing a function to a function: 10\n"
     ]
    }
   ],
   "source": [
    "# pass a function to a function\n",
    "def minus(a, b):\n",
    "    return a - b\n",
    "\n",
    "result1 = minus\n",
    "print(\"Higher order, because I'm passing a function to a function:\", result1(20, 10))"
   ]
  },
  {
   "cell_type": "code",
   "execution_count": 9,
   "id": "e96ae659-3fea-4fd8-b77f-0b2ed840b05f",
   "metadata": {},
   "outputs": [
    {
     "name": "stdout",
     "output_type": "stream",
     "text": [
      "Higher order, because I'm passing a function to a function: 10\n"
     ]
    }
   ],
   "source": [
    "# pass a function to a function\n",
    "def minus(a, b):\n",
    "    return a - b\n",
    "\n",
    "def print_it(x, a, b):\n",
    "    print(\"Higher order, because I'm passing a function to a function:\", x(a, b))\n",
    "\n",
    "print_it(minus, 20, 10)"
   ]
  },
  {
   "cell_type": "code",
   "execution_count": 10,
   "id": "0ef2a6d9-e45f-4868-8ee8-e9c86f90e5f9",
   "metadata": {},
   "outputs": [
    {
     "name": "stdout",
     "output_type": "stream",
     "text": [
      "Higher order, because I'm passing a function to a function: 10\n"
     ]
    }
   ],
   "source": [
    "# pass a lambda function to a function\n",
    "def print_it(x, a, b):\n",
    "    print(\"Higher order, because I'm passing a function to a function:\", x(a, b))\n",
    "print_it(lambda a,b: a-b, 20, 10)"
   ]
  },
  {
   "cell_type": "markdown",
   "id": "0d4d5d3d-ef1b-4a89-9048-311bb60452df",
   "metadata": {
    "editable": true
   },
   "source": [
    "## Formatting strings and using placeholders\n",
    "\n",
    "##### Python provides several methods for formatting strings, allowing for dynamic insertion of values and control over their presentation. The most common and recommended methods are f-strings (formatted string literals)\n",
    "\n"
   ]
  },
  {
   "cell_type": "code",
   "execution_count": 11,
   "id": "c864d72e-a6dd-45bd-aa02-50dce0be5ad6",
   "metadata": {
    "editable": true
   },
   "outputs": [
    {
     "name": "stdout",
     "output_type": "stream",
     "text": [
      "Hello, Alice! You are 30 years old.\n"
     ]
    }
   ],
   "source": [
    "name = \"Alice\"\n",
    "age = 30\n",
    "message = f\"Hello, {name}! You are {age} years old.\"\n",
    "print(message)"
   ]
  },
  {
   "cell_type": "code",
   "execution_count": 12,
   "id": "f3ca1595-3446-41ab-8294-8dbcab138e12",
   "metadata": {
    "editable": true
   },
   "outputs": [
    {
     "name": "stdout",
     "output_type": "stream",
     "text": [
      "The book costs $19.99.\n"
     ]
    }
   ],
   "source": [
    "# format string using the method to do that\n",
    "item = \"book\"\n",
    "price = 19.99\n",
    "message = \"The {} costs ${:.2f}.\".format(item, price)\n",
    "print(message)"
   ]
  },
  {
   "cell_type": "code",
   "execution_count": 13,
   "id": "1bd6300c-106d-4ea5-b787-90290c66921d",
   "metadata": {},
   "outputs": [
    {
     "name": "stdout",
     "output_type": "stream",
     "text": [
      "Hello, Bob! You have 5 items.\n"
     ]
    }
   ],
   "source": [
    "# Old-style % formatting (legacy)\n",
    "name = \"Bob\"\n",
    "count = 5\n",
    "message = \"Hello, %s! You have %d items.\" % (name, count)\n",
    "print(message)"
   ]
  },
  {
   "cell_type": "code",
   "execution_count": 14,
   "id": "c4985094-151d-48bb-bd96-da5ee10fff7b",
   "metadata": {},
   "outputs": [
    {
     "name": "stdout",
     "output_type": "stream",
     "text": [
      "Hello,  Bob ! You have 5 items.\n"
     ]
    }
   ],
   "source": [
    "# print without formatting\n",
    "name = \"Bob\"\n",
    "count = 5\n",
    "print(\"Hello, \", name, \"! You have\", count, \"items.\")"
   ]
  },
  {
   "cell_type": "markdown",
   "id": "9f7d23f3-f5b8-4c26-952a-da6929d21096",
   "metadata": {
    "editable": true
   },
   "source": [
    "## Python \"for loops\"\n",
    "\n",
    "It is easy to **iterate** over a collection of items using a **for loop**. The strings, lists, tuples, sets, and dictionaries we defined are all **iterable** containers.\n",
    "\n",
    "The for loop will go through the specified container, one item at a time, and provide a temporary variable for the current item. You can use this temporary variable like a normal variable."
   ]
  },
  {
   "cell_type": "code",
   "execution_count": 15,
   "id": "0a5fb53e-62a4-495a-8e8c-209d794f63ea",
   "metadata": {
    "editable": true
   },
   "outputs": [
    {
     "name": "stdout",
     "output_type": "stream",
     "text": [
      "apple\n",
      "banana\n",
      "cherry\n"
     ]
    }
   ],
   "source": [
    "# iterating through a list\n",
    "fruits = [\"apple\", \"banana\", \"cherry\"]\n",
    "for x in fruits:\n",
    "  print(x)"
   ]
  },
  {
   "cell_type": "code",
   "execution_count": 16,
   "id": "e621510f-17ed-48f9-822a-6e173449492a",
   "metadata": {
    "editable": true
   },
   "outputs": [
    {
     "name": "stdout",
     "output_type": "stream",
     "text": [
      "b\n",
      "a\n",
      "n\n",
      "a\n",
      "n\n",
      "a\n"
     ]
    }
   ],
   "source": [
    "# iterating through a string\n",
    "for x in \"banana\":\n",
    "  print(x)"
   ]
  },
  {
   "cell_type": "code",
   "execution_count": 17,
   "id": "3520bde0-23d5-456d-ba7a-e76deb8ed3f3",
   "metadata": {},
   "outputs": [
    {
     "name": "stdout",
     "output_type": "stream",
     "text": [
      "apple\n",
      "banana\n"
     ]
    }
   ],
   "source": [
    "# the break statement\n",
    "fruits = [\"apple\", \"banana\", \"cherry\"]\n",
    "for x in fruits:\n",
    "  print(x)\n",
    "  if x == \"banana\":\n",
    "    break"
   ]
  },
  {
   "cell_type": "markdown",
   "id": "f7d573f1-8472-40db-b5aa-6d4649c583f6",
   "metadata": {
    "editable": true
   },
   "source": [
    "## Python \"if statements\" and \"while loops\"\n",
    "\n",
    "Conditional expressions can be used with these two **conditional statements**.\n",
    "\n",
    "The **if statement** allows you to test a condition and perform some actions if the condition evaluates to `True`. You can also provide `elif` and/or `else` clauses to an if statement to take alternative actions if the condition evaluates to `False`.\n",
    "\n",
    "The **while loop** will keep looping until its conditional expression evaluates to `False`.\n",
    "\n",
    "> Note: It is possible to \"loop forever\" when using a while loop with a conditional expression that never evaluates to `False`.\n",
    ">\n",
    "> Note: Since the **for loop** will iterate over a container of items until there are no more, there is no need to specify a \"stop looping\" condition.\n",
    "\n",
    "https://www.w3schools.com/python/"
   ]
  },
  {
   "cell_type": "code",
   "execution_count": 18,
   "id": "2861a584-a6ae-4b8c-a9a4-17d2bca130b4",
   "metadata": {
    "editable": true
   },
   "outputs": [
    {
     "name": "stdout",
     "output_type": "stream",
     "text": [
      "b is greater than a\n"
     ]
    }
   ],
   "source": [
    "# if\n",
    "a = 33\n",
    "b = 200\n",
    "if b > a:\n",
    "  print(\"b is greater than a\")"
   ]
  },
  {
   "cell_type": "code",
   "execution_count": 19,
   "id": "28665cad-53cb-480e-af3e-bbcb53543e68",
   "metadata": {},
   "outputs": [
    {
     "name": "stdout",
     "output_type": "stream",
     "text": [
      "a and b are equal\n"
     ]
    }
   ],
   "source": [
    "# else if\n",
    "a = 33\n",
    "b = 33\n",
    "if b > a:\n",
    "  print(\"b is greater than a\")\n",
    "elif a == b:\n",
    "  print(\"a and b are equal\")"
   ]
  },
  {
   "cell_type": "code",
   "execution_count": 20,
   "id": "16d9db63-f929-4258-83a5-87d6f92dd509",
   "metadata": {
    "editable": true
   },
   "outputs": [
    {
     "name": "stdout",
     "output_type": "stream",
     "text": [
      "a is greater than b\n"
     ]
    }
   ],
   "source": [
    "# else\n",
    "a = 200\n",
    "b = 33\n",
    "if b > a:\n",
    "  print(\"b is greater than a\")\n",
    "elif a == b:\n",
    "  print(\"a and b are equal\")\n",
    "else:\n",
    "  print(\"a is greater than b\")"
   ]
  },
  {
   "cell_type": "code",
   "execution_count": 21,
   "id": "52e0b35c-b814-4bd1-93ae-bc8fa1bb265a",
   "metadata": {},
   "outputs": [
    {
     "name": "stdout",
     "output_type": "stream",
     "text": [
      "a is greater than b\n"
     ]
    }
   ],
   "source": [
    "# shorthand\n",
    "if a > b: print(\"a is greater than b\")"
   ]
  },
  {
   "cell_type": "code",
   "execution_count": 22,
   "id": "7188594d-5fe8-451e-b99b-82c9eb8c1f79",
   "metadata": {},
   "outputs": [
    {
     "name": "stdout",
     "output_type": "stream",
     "text": [
      "1\n",
      "2\n",
      "3\n",
      "4\n",
      "5\n"
     ]
    }
   ],
   "source": [
    "# while\n",
    "i = 1\n",
    "while i < 6:\n",
    "  print(i)\n",
    "  i += 1"
   ]
  },
  {
   "cell_type": "markdown",
   "id": "dbc56170-a6d0-4d87-9063-0e9f84c427bf",
   "metadata": {
    "editable": true
   },
   "source": [
    "## List, set, and dict comprehensions\n",
    "\n",
    "Python comprehensions offer a concise and efficient way to create new sequences (lists, sets, dictionaries) or iterators (generator expressions) from existing ones.\n",
    "\n",
    "### Advantages\n",
    "- Conciseness: Express complex logic in a single, readable line.\n",
    "- Readability: Often clearer and more intuitive than traditional loops, especially for simple transformations and filtering.\n",
    "- Efficiency: Can be more optimized than equivalent for loops in many scenarios due to internal C optimizations."
   ]
  },
  {
   "cell_type": "code",
   "execution_count": 23,
   "id": "50fbf518-ef4a-4879-9f1f-9f2d42d2ba67",
   "metadata": {
    "editable": true
   },
   "outputs": [
    {
     "name": "stdout",
     "output_type": "stream",
     "text": [
      "[0, 1, 4, 9, 16, 25, 36, 49, 64, 81]\n"
     ]
    }
   ],
   "source": [
    "# list\n",
    "squares = [x**2 for x in range(10)]\n",
    "print(squares)"
   ]
  },
  {
   "cell_type": "code",
   "execution_count": 24,
   "id": "36a089eb-75ee-4f4e-983f-3bb2f95d2b24",
   "metadata": {
    "editable": true
   },
   "outputs": [
    {
     "name": "stdout",
     "output_type": "stream",
     "text": [
      "{'O', 'R', 'E', 'H', 'W', 'D', 'L'}\n"
     ]
    }
   ],
   "source": [
    "# set - scan through string, extract character if it's alphanumeric, and convert to uppercase\n",
    "unique_letters = {char.upper() for char in \"hello world\" if char.isalpha()}\n",
    "print(unique_letters)"
   ]
  },
  {
   "cell_type": "code",
   "execution_count": 25,
   "id": "721a481c-1057-416a-b6e4-2d762295c767",
   "metadata": {},
   "outputs": [
    {
     "name": "stdout",
     "output_type": "stream",
     "text": [
      "space is NOT alphanumeric\n"
     ]
    }
   ],
   "source": [
    "# understanding isalpha() method\n",
    "if ' '.isalpha():\n",
    "    print(\"space is alphanumeric\")\n",
    "else:\n",
    "    print(\"space is NOT alphanumeric\")"
   ]
  },
  {
   "cell_type": "code",
   "execution_count": 26,
   "id": "d9e72076-6ee3-4065-b99e-420f2e2120df",
   "metadata": {},
   "outputs": [
    {
     "name": "stdout",
     "output_type": "stream",
     "text": [
      "Help on method_descriptor:\n",
      "\n",
      "isalpha(self, /) unbound builtins.str method\n",
      "    Return True if the string is an alphabetic string, False otherwise.\n",
      "\n",
      "    A string is alphabetic if all characters in the string are alphabetic and there\n",
      "    is at least one character in the string.\n",
      "\n"
     ]
    }
   ],
   "source": [
    "help(str.isalpha)"
   ]
  },
  {
   "cell_type": "code",
   "execution_count": 27,
   "id": "91dc8c2e-cd77-4344-acf9-7586e3b25e6d",
   "metadata": {},
   "outputs": [
    {
     "name": "stdout",
     "output_type": "stream",
     "text": [
      "{0: 0, 1: 1, 2: 4, 3: 9, 4: 16}\n"
     ]
    }
   ],
   "source": [
    "# dict\n",
    "squares_dict = {x: x**2 for x in range(5)}\n",
    "print(squares_dict)"
   ]
  },
  {
   "cell_type": "markdown",
   "id": "8b56446d-5f57-49b4-9a52-57b38af379cd",
   "metadata": {
    "editable": true
   },
   "source": [
    "## Creating objects from arguments or other objects\n",
    "\n",
    "The basic types and containers we have used so far all provide **type constructors**:\n",
    "\n",
    "- `int()`\n",
    "- `float()`\n",
    "- `str()`\n",
    "- `list()`\n",
    "- `tuple()`\n",
    "- `set()`\n",
    "- `dict()`\n",
    "\n",
    "Up to this point, we have been defining objects of these built-in types using some syntactic shortcuts, since they are so common.\n",
    "\n",
    "Sometimes, you will have an object of one type that you need to convert to another type. Use the **type constructor** for the type of object you want to have, and pass in the object you currently have."
   ]
  },
  {
   "cell_type": "code",
   "execution_count": 28,
   "id": "ad89bff0-f9a9-47c2-afce-d32344e65168",
   "metadata": {
    "editable": true
   },
   "outputs": [
    {
     "name": "stdout",
     "output_type": "stream",
     "text": [
      "5\n",
      "5.0\n"
     ]
    }
   ],
   "source": [
    "#\n",
    "# conversion (int to float)\n",
    "#\n",
    "# create int\n",
    "x = int(5)\n",
    "print(x)\n",
    "y = float(x)\n",
    "print(y)"
   ]
  },
  {
   "cell_type": "code",
   "execution_count": 29,
   "id": "2e0498ad-df0c-40ce-8c06-f764fdc6d6c0",
   "metadata": {
    "editable": true
   },
   "outputs": [
    {
     "name": "stdout",
     "output_type": "stream",
     "text": [
      "hello\n",
      "{'l', 'o', 'e', 'h'}\n"
     ]
    }
   ],
   "source": [
    "#\n",
    "# conversion (string to set)\n",
    "#\n",
    "str1 = str(\"hello\")\n",
    "print(str1)\n",
    "set1 = set(str1)\n",
    "print(set1)"
   ]
  },
  {
   "cell_type": "code",
   "execution_count": 30,
   "id": "60845132-4729-4334-851b-35dfbaedb3f9",
   "metadata": {},
   "outputs": [
    {
     "name": "stdout",
     "output_type": "stream",
     "text": [
      "[1, 2, 3]\n",
      "(1, 2, 3)\n"
     ]
    }
   ],
   "source": [
    "#\n",
    "# conversion (list to tuple)\n",
    "#\n",
    "list1 = [1,2,3]\n",
    "print(list1)\n",
    "tuple1 = tuple(list1)\n",
    "print(tuple1)"
   ]
  }
 ],
 "metadata": {
  "kernelspec": {
   "display_name": "Python 3 (ipykernel)",
   "language": "python",
   "name": "python3"
  },
  "language_info": {
   "codemirror_mode": {
    "name": "ipython",
    "version": 3
   },
   "file_extension": ".py",
   "mimetype": "text/x-python",
   "name": "python",
   "nbconvert_exporter": "python",
   "pygments_lexer": "ipython3",
   "version": "3.13.7"
  }
 },
 "nbformat": 4,
 "nbformat_minor": 5
}
