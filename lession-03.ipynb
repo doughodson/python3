{
 "cells": [
  {
   "cell_type": "markdown",
   "id": "5bf8cf0d-1a5e-404a-99d5-0748b549a111",
   "metadata": {
    "editable": true
   },
   "source": [
    "## Positional arguments and keyword arguments to callables\n",
    "\n",
    "You can call a function/method in a number of different ways:\n",
    "\n",
    "- `func()`: Call `func` with no arguments\n",
    "- `func(arg)`: Call `func` with one positional argument\n",
    "- `func(arg1, arg2)`: Call `func` with two positional arguments\n",
    "- `func(arg1, arg2, ..., argn)`: Call `func` with many positional arguments\n",
    "- `func(kwarg=value)`: Call `func` with one keyword argument \n",
    "- `func(kwarg1=value1, kwarg2=value2)`: Call `func` with two keyword arguments\n",
    "- `func(kwarg1=value1, kwarg2=value2, ..., kwargn=valuen)`: Call `func` with many keyword arguments\n",
    "- `func(arg1, arg2, kwarg1=value1, kwarg2=value2)`: Call `func` with positonal arguments and keyword arguments\n",
    "- `obj.method()`: Same for `func`.. and every other `func` example\n",
    "\n",
    "When using **positional arguments**, you must provide them in the order that the function defined them (the function's **signature**).\n",
    "\n",
    "When using **keyword arguments**, you can provide the arguments you want, in any order you want, as long as you specify each argument's name.\n",
    "\n",
    "When using positional and keyword arguments, positional arguments must come first."
   ]
  },
  {
   "cell_type": "code",
   "execution_count": null,
   "id": "2055ae91-c6c4-44e0-a2e8-75c953c683d7",
   "metadata": {
    "editable": true
   },
   "outputs": [],
   "source": [
    "# define a function\n",
    "def func(x):\n",
    "    print(x)\n",
    "\n",
    "print(callable(func))"
   ]
  },
  {
   "cell_type": "code",
   "execution_count": null,
   "id": "dcc1e143-9f50-4aa8-b32f-699974ed320e",
   "metadata": {
    "editable": true
   },
   "outputs": [],
   "source": [
    "# define a function and call it\n",
    "def func(x):\n",
    "    print(x)\n",
    "\n",
    "func(5)"
   ]
  },
  {
   "cell_type": "code",
   "execution_count": null,
   "id": "e4db2e9d-6971-49ad-976f-2ef68f756eba",
   "metadata": {},
   "outputs": [],
   "source": [
    "# define a function and call it\n",
    "def func(x = x):\n",
    "    print(x)\n",
    "\n",
    "func(5)"
   ]
  },
  {
   "cell_type": "code",
   "execution_count": null,
   "id": "d3ec85e8-3838-4614-9d7b-1aedff0f3334",
   "metadata": {},
   "outputs": [],
   "source": [
    "# define a function with both positional and keyword arguments\n",
    "def greet(name, greeting=\"Hello\"):\n",
    "    print(f\"{greeting}, {name}!\")\n",
    "\n",
    "# call it\n",
    "greet(\"Charlie\", greeting=\"Hey there\")"
   ]
  },
  {
   "cell_type": "code",
   "execution_count": null,
   "id": "18606cc3-3c78-49b3-85ce-9579a3bbb4e6",
   "metadata": {},
   "outputs": [],
   "source": [
    "# arbitrary keyword arguments **kwargs\n",
    "def process_data(**kwargs):\n",
    "    for key, value in kwargs.items():\n",
    "        print(f\"{key}: {value}\")\n",
    "\n",
    "process_data(user=\"Alice\", age=30, city=\"New York\")"
   ]
  },
  {
   "cell_type": "markdown",
   "id": "0d4d5d3d-ef1b-4a89-9048-311bb60452df",
   "metadata": {
    "editable": true
   },
   "source": [
    "## Formatting strings and using placeholders\n",
    "\n",
    "##### Python provides several methods for formatting strings, allowing for dynamic insertion of values and control over their presentation. The most common and recommended methods are f-strings (formatted string literals)\n",
    "\n"
   ]
  },
  {
   "cell_type": "code",
   "execution_count": null,
   "id": "c864d72e-a6dd-45bd-aa02-50dce0be5ad6",
   "metadata": {
    "editable": true
   },
   "outputs": [],
   "source": [
    "name = \"Alice\"\n",
    "age = 30\n",
    "message = f\"Hello, {name}! You are {age} years old.\"\n",
    "print(message)"
   ]
  },
  {
   "cell_type": "code",
   "execution_count": null,
   "id": "f3ca1595-3446-41ab-8294-8dbcab138e12",
   "metadata": {
    "editable": true
   },
   "outputs": [],
   "source": [
    "# format string using the method to do that\n",
    "item = \"book\"\n",
    "price = 19.99\n",
    "message = \"The {} costs ${:.2f}.\".format(item, price)\n",
    "print(message)"
   ]
  },
  {
   "cell_type": "code",
   "execution_count": null,
   "id": "1bd6300c-106d-4ea5-b787-90290c66921d",
   "metadata": {},
   "outputs": [],
   "source": [
    "# Old-style % formatting (legacy)\n",
    "name = \"Bob\"\n",
    "count = 5\n",
    "message = \"Hello, %s! You have %d items.\" % (name, count)\n",
    "print(message)"
   ]
  },
  {
   "cell_type": "code",
   "execution_count": null,
   "id": "c4985094-151d-48bb-bd96-da5ee10fff7b",
   "metadata": {},
   "outputs": [],
   "source": [
    "# print without formatting\n",
    "name = \"Bob\"\n",
    "count = 5\n",
    "print(\"Hello, \", name, \"! You have\", count, \"items.\")"
   ]
  },
  {
   "cell_type": "markdown",
   "id": "9f7d23f3-f5b8-4c26-952a-da6929d21096",
   "metadata": {
    "editable": true
   },
   "source": [
    "## Python \"for loops\"\n",
    "\n",
    "It is easy to **iterate** over a collection of items using a **for loop**. The strings, lists, tuples, sets, and dictionaries we defined are all **iterable** containers.\n",
    "\n",
    "The for loop will go through the specified container, one item at a time, and provide a temporary variable for the current item. You can use this temporary variable like a normal variable."
   ]
  },
  {
   "cell_type": "code",
   "execution_count": null,
   "id": "0a5fb53e-62a4-495a-8e8c-209d794f63ea",
   "metadata": {
    "editable": true
   },
   "outputs": [],
   "source": [
    "# iterating through a list\n",
    "fruits = [\"apple\", \"banana\", \"cherry\"]\n",
    "for x in fruits:\n",
    "  print(x)"
   ]
  },
  {
   "cell_type": "code",
   "execution_count": null,
   "id": "e621510f-17ed-48f9-822a-6e173449492a",
   "metadata": {
    "editable": true
   },
   "outputs": [],
   "source": [
    "# iterating through a string\n",
    "for x in \"banana\":\n",
    "  print(x)"
   ]
  },
  {
   "cell_type": "code",
   "execution_count": null,
   "id": "3520bde0-23d5-456d-ba7a-e76deb8ed3f3",
   "metadata": {},
   "outputs": [],
   "source": [
    "# the break statement\n",
    "fruits = [\"apple\", \"banana\", \"cherry\"]\n",
    "for x in fruits:\n",
    "  print(x)\n",
    "  if x == \"banana\":\n",
    "    break"
   ]
  },
  {
   "cell_type": "markdown",
   "id": "f7d573f1-8472-40db-b5aa-6d4649c583f6",
   "metadata": {
    "editable": true
   },
   "source": [
    "## Python \"if statements\" and \"while loops\"\n",
    "\n",
    "Conditional expressions can be used with these two **conditional statements**.\n",
    "\n",
    "The **if statement** allows you to test a condition and perform some actions if the condition evaluates to `True`. You can also provide `elif` and/or `else` clauses to an if statement to take alternative actions if the condition evaluates to `False`.\n",
    "\n",
    "The **while loop** will keep looping until its conditional expression evaluates to `False`.\n",
    "\n",
    "> Note: It is possible to \"loop forever\" when using a while loop with a conditional expression that never evaluates to `False`.\n",
    ">\n",
    "> Note: Since the **for loop** will iterate over a container of items until there are no more, there is no need to specify a \"stop looping\" condition.\n",
    "\n",
    "https://www.w3schools.com/python/"
   ]
  },
  {
   "cell_type": "code",
   "execution_count": null,
   "id": "2861a584-a6ae-4b8c-a9a4-17d2bca130b4",
   "metadata": {
    "editable": true
   },
   "outputs": [],
   "source": [
    "# if\n",
    "a = 33\n",
    "b = 200\n",
    "if b > a:\n",
    "  print(\"b is greater than a\")"
   ]
  },
  {
   "cell_type": "code",
   "execution_count": null,
   "id": "28665cad-53cb-480e-af3e-bbcb53543e68",
   "metadata": {},
   "outputs": [],
   "source": [
    "# else if\n",
    "a = 33\n",
    "b = 33\n",
    "if b > a:\n",
    "  print(\"b is greater than a\")\n",
    "elif a == b:\n",
    "  print(\"a and b are equal\")"
   ]
  },
  {
   "cell_type": "code",
   "execution_count": null,
   "id": "16d9db63-f929-4258-83a5-87d6f92dd509",
   "metadata": {
    "editable": true
   },
   "outputs": [],
   "source": [
    "# else\n",
    "a = 200\n",
    "b = 33\n",
    "if b > a:\n",
    "  print(\"b is greater than a\")\n",
    "elif a == b:\n",
    "  print(\"a and b are equal\")\n",
    "else:\n",
    "  print(\"a is greater than b\")"
   ]
  },
  {
   "cell_type": "code",
   "execution_count": null,
   "id": "52e0b35c-b814-4bd1-93ae-bc8fa1bb265a",
   "metadata": {},
   "outputs": [],
   "source": [
    "# shorthand\n",
    "if a > b: print(\"a is greater than b\")"
   ]
  },
  {
   "cell_type": "code",
   "execution_count": null,
   "id": "7188594d-5fe8-451e-b99b-82c9eb8c1f79",
   "metadata": {},
   "outputs": [],
   "source": [
    "# while\n",
    "i = 1\n",
    "while i < 6:\n",
    "  print(i)\n",
    "  i += 1"
   ]
  },
  {
   "cell_type": "markdown",
   "id": "dbc56170-a6d0-4d87-9063-0e9f84c427bf",
   "metadata": {
    "editable": true
   },
   "source": [
    "## List, set, and dict comprehensions\n",
    "\n",
    "Python comprehensions offer a concise and efficient way to create new sequences (lists, sets, dictionaries) or iterators (generator expressions) from existing ones.\n",
    "\n",
    "### Advantages\n",
    "- Conciseness: Express complex logic in a single, readable line.\n",
    "- Readability: Often clearer and more intuitive than traditional loops, especially for simple transformations and filtering.\n",
    "- Efficiency: Can be more optimized than equivalent for loops in many scenarios due to internal C optimizations."
   ]
  },
  {
   "cell_type": "code",
   "execution_count": null,
   "id": "50fbf518-ef4a-4879-9f1f-9f2d42d2ba67",
   "metadata": {
    "editable": true
   },
   "outputs": [],
   "source": [
    "# list\n",
    "squares = [x**2 for x in range(10)]\n",
    "print(squares)"
   ]
  },
  {
   "cell_type": "code",
   "execution_count": null,
   "id": "36a089eb-75ee-4f4e-983f-3bb2f95d2b24",
   "metadata": {
    "editable": true
   },
   "outputs": [],
   "source": [
    "# set - scan through string, extract character if it's alphanumeric, and convert to uppercase\n",
    "unique_letters = {char.upper() for char in \"hello world\" if char.isalpha()}\n",
    "print(unique_letters)"
   ]
  },
  {
   "cell_type": "code",
   "execution_count": null,
   "id": "721a481c-1057-416a-b6e4-2d762295c767",
   "metadata": {},
   "outputs": [],
   "source": [
    "# understanding isalpha() method\n",
    "if ' '.isalpha():\n",
    "    print(\"space is alphanumeric\")\n",
    "else:\n",
    "    print(\"space is NOT alphanumeric\")"
   ]
  },
  {
   "cell_type": "code",
   "execution_count": null,
   "id": "d9e72076-6ee3-4065-b99e-420f2e2120df",
   "metadata": {},
   "outputs": [],
   "source": [
    "help(str.isalpha)"
   ]
  },
  {
   "cell_type": "code",
   "execution_count": null,
   "id": "91dc8c2e-cd77-4344-acf9-7586e3b25e6d",
   "metadata": {},
   "outputs": [],
   "source": [
    "# dict\n",
    "squares_dict = {x: x**2 for x in range(5)}\n",
    "print(squares_dict)"
   ]
  },
  {
   "cell_type": "markdown",
   "id": "8b56446d-5f57-49b4-9a52-57b38af379cd",
   "metadata": {
    "editable": true
   },
   "source": [
    "## Creating objects from arguments or other objects\n",
    "\n",
    "The basic types and containers we have used so far all provide **type constructors**:\n",
    "\n",
    "- `int()`\n",
    "- `float()`\n",
    "- `str()`\n",
    "- `list()`\n",
    "- `tuple()`\n",
    "- `set()`\n",
    "- `dict()`\n",
    "\n",
    "Up to this point, we have been defining objects of these built-in types using some syntactic shortcuts, since they are so common.\n",
    "\n",
    "Sometimes, you will have an object of one type that you need to convert to another type. Use the **type constructor** for the type of object you want to have, and pass in the object you currently have."
   ]
  },
  {
   "cell_type": "code",
   "execution_count": null,
   "id": "ad89bff0-f9a9-47c2-afce-d32344e65168",
   "metadata": {
    "editable": true
   },
   "outputs": [],
   "source": []
  },
  {
   "cell_type": "code",
   "execution_count": null,
   "id": "2e0498ad-df0c-40ce-8c06-f764fdc6d6c0",
   "metadata": {
    "editable": true
   },
   "outputs": [],
   "source": []
  }
 ],
 "metadata": {
  "kernelspec": {
   "display_name": "Python 3 (ipykernel)",
   "language": "python",
   "name": "python3"
  },
  "language_info": {
   "codemirror_mode": {
    "name": "ipython",
    "version": 3
   },
   "file_extension": ".py",
   "mimetype": "text/x-python",
   "name": "python",
   "nbconvert_exporter": "python",
   "pygments_lexer": "ipython3",
   "version": "3.13.7"
  }
 },
 "nbformat": 4,
 "nbformat_minor": 5
}
