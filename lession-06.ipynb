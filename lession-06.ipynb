{
 "cells": [
  {
   "cell_type": "markdown",
   "id": "89ee3204-79f6-4910-af15-ce1595022807",
   "metadata": {},
   "source": [
    "## How does python find modules?\n",
    "\n",
    "- Module search path: It defines the locations where Python looks for modules and packages.\n",
    "- Initialization: sys.path is initialized when the Python interpreter starts.\n",
    "- Order of search: The interpreter searches directories in the order they appear in the sys.path list. The first entry is typically the directory of the script being executed or the current working directory in an interactive session.\n",
    "- Contents: It usually includes the current working directory (or script directory), directories specified by the PYTHONPATH environment variable, and standard library directories.\n",
    "- Modification: You can modify sys.path within a running Python program by appending or inserting new paths. However, these changes are temporary and only apply to the current session.\n",
    "- Viewing sys.path: You can easily inspect the contents of sys.path by importing the sys module and printing sys.path"
   ]
  },
  {
   "cell_type": "code",
   "execution_count": null,
   "id": "f8acb791-829a-4bb3-9f87-3180dec6aba0",
   "metadata": {},
   "outputs": [],
   "source": [
    "import sys\n",
    "print(sys.path)\n",
    "sys.path += \".\"\n",
    "print(\"----- After path modification -----\")\n",
    "print(sys.path)"
   ]
  },
  {
   "cell_type": "markdown",
   "id": "3dfbd466-a99a-4229-b320-97044d30dc33",
   "metadata": {},
   "source": [
    "## Python's Module, Package and Library\n",
    "\n",
    "- A module is a simple Python file that contains collections of functions and global variables and with having a .py extension file.\n",
    "- It is an executable file and to organize all the modules we have the concept called Package in Python.\n",
    "- A package is a simple directory having collections of modules.\n",
    "- The package is simply a namespace.\n",
    "- It is often assumed that while a package is a collection of modules, a library is a collection of packages.\n",
    "\n",
    "### Reference\n",
    "\n",
    "- https://www.geeksforgeeks.org/python/what-is-the-difference-between-pythons-module-package-and-library/#"
   ]
  },
  {
   "cell_type": "code",
   "execution_count": null,
   "id": "7b6409af-b9c1-41ab-ac1b-a6c8c4cd13e6",
   "metadata": {},
   "outputs": [],
   "source": [
    "# what's in this module\n",
    "import demo_module\n",
    "dir(demo_module)"
   ]
  },
  {
   "cell_type": "code",
   "execution_count": null,
   "id": "ed2ecf34-84c6-4520-9a08-3171de8fc59d",
   "metadata": {},
   "outputs": [],
   "source": [
    "# import the module\n",
    "import demo_module\n",
    "demo_module.my_function(\"Name\")"
   ]
  },
  {
   "cell_type": "code",
   "execution_count": null,
   "id": "22573034-f0ad-41d6-b09d-5857af51b57d",
   "metadata": {},
   "outputs": [],
   "source": [
    "# using from XYZ import\n",
    "from demo_module import my_function\n",
    "\n",
    "my_function(\"Name\")"
   ]
  },
  {
   "cell_type": "code",
   "execution_count": null,
   "id": "bdb6c54f-7275-4e2c-a437-91aed6b7f3e2",
   "metadata": {},
   "outputs": [],
   "source": [
    "# import the module and rename it\n",
    "import demo_module as dm\n",
    "dm.my_function(\"Name\")"
   ]
  },
  {
   "cell_type": "code",
   "execution_count": null,
   "id": "1184aa2c-c973-4d2e-b08b-ea9cc91f1f1e",
   "metadata": {},
   "outputs": [],
   "source": [
    "# using from XYZ import specific symbol and rename it\n",
    "from demo_module import my_function as m\n",
    "\n",
    "m(\"Name\")"
   ]
  },
  {
   "cell_type": "markdown",
   "id": "aac1f214-d6b5-4a2e-8a7f-d6cca75f9577",
   "metadata": {},
   "source": [
    "## Bring a symbol into namespace: **import** vs **from module import**\n",
    "\n",
    "Conceptually, import and from XYZ import do the \"same thing\" it makes a symbol available, but there are pros & cons to using them\n",
    "\n",
    "Recommendation\n",
    "\n",
    "- Use **from module import** to target a specific member (or members) of the module that you are going to repeat in code\n",
    "- Use **import** to import the module as a whole\n",
    "- I tend to be explicit\n",
    "\n",
    "#### Reference\n",
    "\n",
    "- https://www.codingem.com/python-difference-between-import-and-from-import/\n",
    "- https://realpython.com/python-import/"
   ]
  },
  {
   "cell_type": "code",
   "execution_count": null,
   "id": "7676f885-c2f3-43de-a179-9169ac5e2f5d",
   "metadata": {},
   "outputs": [],
   "source": [
    "# using import\n",
    "import datetime\n",
    "\n",
    "print(datetime.date(2021, 10, 19))"
   ]
  },
  {
   "cell_type": "code",
   "execution_count": null,
   "id": "f5552ebf-b69a-4243-896f-91cdbd4023b4",
   "metadata": {},
   "outputs": [],
   "source": [
    "# using import\n",
    "import datetime\n",
    "\n",
    "print(datetime.date(2021, 10, 19))"
   ]
  },
  {
   "cell_type": "code",
   "execution_count": null,
   "id": "b54eb509-c705-41b4-9545-ca0364bda5d8",
   "metadata": {},
   "outputs": [],
   "source": [
    "# using from XYZ import\n",
    "from datetime import date\n",
    "\n",
    "print(date(2021, 10, 19))"
   ]
  },
  {
   "cell_type": "code",
   "execution_count": null,
   "id": "cfe02a59-dedf-4742-917a-6e489d6fc558",
   "metadata": {},
   "outputs": [],
   "source": [
    "# using from module import (being explicit), and naming to be explicit\n",
    "from datetime import date as datetime_date\n",
    "\n",
    "print(datetime_date(2021, 10, 19))"
   ]
  },
  {
   "cell_type": "markdown",
   "id": "55cce194-bf8f-41d1-8c26-20a2ccf5ae37",
   "metadata": {},
   "source": [
    "## Two Kinds of Packages: Namespace and Regular"
   ]
  },
  {
   "cell_type": "code",
   "execution_count": null,
   "id": "4f359b41-d0f1-4897-9d8b-30964f3688e4",
   "metadata": {},
   "outputs": [],
   "source": [
    "import package_namespace\n",
    "dir(package_namespace)"
   ]
  },
  {
   "cell_type": "code",
   "execution_count": null,
   "id": "b6af5aeb-f2bc-4135-8001-c89ddac9066d",
   "metadata": {},
   "outputs": [],
   "source": [
    "import package_regular\n",
    "dir(package_regular)"
   ]
  },
  {
   "cell_type": "code",
   "execution_count": null,
   "id": "c194db67-dc1a-4831-aa8f-ff89b977ac27",
   "metadata": {},
   "outputs": [],
   "source": [
    "import package_namespace.module\n",
    "package_namespace.module.my_print(5)"
   ]
  },
  {
   "cell_type": "code",
   "execution_count": null,
   "id": "73517470-f53d-4d0e-bbc0-f587117692ec",
   "metadata": {},
   "outputs": [],
   "source": [
    "from package_namespace.module import my_print\n",
    "my_print(5)"
   ]
  },
  {
   "cell_type": "code",
   "execution_count": null,
   "id": "cc6644fe-fe03-4fb2-9e93-f7e74e80bcca",
   "metadata": {},
   "outputs": [],
   "source": [
    "# could do this, but it would be silly!!!\n",
    "# (importing everything seems self-defeating)\n",
    "from package_namespace.module import *\n",
    "\n",
    "my_print(5)"
   ]
  },
  {
   "cell_type": "markdown",
   "id": "b41fab15-f14b-40fa-a31e-bf906ff75571",
   "metadata": {},
   "source": [
    "## Brief Tour of Python's Standard Library\n",
    "\n",
    "![Standard Packages](gfx/python-std-packages.png)\n",
    "\n",
    "### Reference\n",
    "\n",
    "- https://docs.python.org/3/tutorial/stdlib.html\n",
    "\n",
    "Note: underscores in python names indicate intent: a single leading underscore signals a non-public name, a single trailing underscore helps avoid naming conflicts, and a double leading underscore triggers name mangling for class attributes and methods. Python doesn't enforce public or private names with access restrictions.\n",
    "\n",
    "#### Some std lib modules\n",
    "\n",
    "- **os**   : dozens of functions for interacting with the operating system\n",
    "- **sys**  : system-specific parameters and functions\n",
    "- **re**   : regular expression tools for advanced string processing\n",
    "- **math** : C library functions for floating-point math\n",
    "- **random** : tools for random selection\n",
    "- **statistics** : basic statistical properties (the mean, median, variance, etc.) of numeric data\n",
    "- **urllib**     : used to make HTTP requests\n",
    "- **smtplib**    : SMTP protocol client\n",
    "- **datetime**   : for manipulating dates and times\n",
    "- **zlib**, **gzip**, **bz2**, **lzma**, **zipfile**, **tarfile** : data compression\n",
    "- **timeit** : performance measurement\n",
    "- **doctest** : tool for scanning a module and validating tests embedded in a program’s docstrings\n",
    "- **unittest** :  allows a more comprehensive set of tests to be maintained in a separate file\n",
    "- **json**, **csv**, **xml** :  support for parsing these popular data interchange formats\n",
    "- **sqlite3** : wrapper for SQLite databases"
   ]
  },
  {
   "cell_type": "code",
   "execution_count": null,
   "id": "68bc9fc5-d308-4347-b9c9-3e742eb8bba0",
   "metadata": {},
   "outputs": [],
   "source": [
    "import os\n",
    "print(os.getcwd())"
   ]
  },
  {
   "cell_type": "code",
   "execution_count": null,
   "id": "aee0f7db-8199-40d0-baed-36ca72c41562",
   "metadata": {},
   "outputs": [],
   "source": [
    "import sys\n",
    "print(sys.byteorder)\n",
    "print(sys.builtin_module_names)\n",
    "print(sys.copyright)"
   ]
  },
  {
   "cell_type": "code",
   "execution_count": null,
   "id": "d93661f6-5c69-4d5c-9ceb-cde4b5621bce",
   "metadata": {},
   "outputs": [],
   "source": [
    "import re\n",
    "re.findall(\"hello\", \"hello world\")"
   ]
  },
  {
   "cell_type": "code",
   "execution_count": null,
   "id": "0d56235c-949f-436c-9699-dc1c9d276f69",
   "metadata": {},
   "outputs": [],
   "source": [
    "import math\n",
    "math.cos(math.pi/4)"
   ]
  },
  {
   "cell_type": "code",
   "execution_count": null,
   "id": "f2866ab8-6234-4694-b9ce-39de813e6c81",
   "metadata": {},
   "outputs": [],
   "source": [
    "import random\n",
    "random.choice(['apple', 'pear', 'banana'])"
   ]
  },
  {
   "cell_type": "code",
   "execution_count": null,
   "id": "fce8e942-e684-4242-9139-37cb42348c91",
   "metadata": {},
   "outputs": [],
   "source": [
    "import statistics\n",
    "data = [2.75,  1.75, 1.25, 0.25, 0.5, 1.25, 3.5]\n",
    "print(\"Mean:\", statistics.mean(data))\n",
    "print(\"Median:\", statistics.median(data))\n",
    "print(\"Varance:\", statistics.variance(data))"
   ]
  },
  {
   "cell_type": "code",
   "execution_count": null,
   "id": "30f73c9c-36df-4900-89a3-870953c3ac1d",
   "metadata": {},
   "outputs": [],
   "source": [
    "#\n",
    "# Internet oriented packages\n",
    "#\n",
    "# urllib tutorial: https://realpython.com/urllib-request/\n",
    "# smtplib tutorial: https://realpython.com/python-send-email/\n",
    "\n",
    "import urllib\n",
    "import smtplib"
   ]
  },
  {
   "cell_type": "code",
   "execution_count": null,
   "id": "285312f5-43ea-4572-80a3-f4a1fce7532f",
   "metadata": {},
   "outputs": [],
   "source": [
    "import zlib\n",
    "import gzip\n",
    "import bz2\n",
    "import lzma\n",
    "import zipfile\n",
    "import tarfile"
   ]
  },
  {
   "cell_type": "code",
   "execution_count": null,
   "id": "5970b427-7c1b-4dc6-8b81-34edba85a7dd",
   "metadata": {},
   "outputs": [],
   "source": [
    "from timeit import Timer\n",
    "Timer('t=a; a=b; b=t', 'a=1; b=2').timeit()"
   ]
  },
  {
   "cell_type": "code",
   "execution_count": null,
   "id": "31614976-089a-41f2-af18-0a02bbc5772d",
   "metadata": {},
   "outputs": [],
   "source": [
    "def average(values):\n",
    "    \"\"\"Computes the arithmetic mean of a list of numbers.\n",
    "\n",
    "    >>> print(average([20, 30, 70]))\n",
    "    40.0\n",
    "    \"\"\"\n",
    "    return sum(values) / len(values)\n",
    "\n",
    "import doctest\n",
    "doctest.testmod()   # automatically validate the embedded tests"
   ]
  },
  {
   "cell_type": "code",
   "execution_count": null,
   "id": "6db5b3ab-3ede-42e9-a339-d0aea043f82a",
   "metadata": {},
   "outputs": [],
   "source": [
    "import unittest"
   ]
  },
  {
   "cell_type": "code",
   "execution_count": null,
   "id": "aad08757-efc6-450d-ace3-cb13786ab248",
   "metadata": {},
   "outputs": [],
   "source": [
    "import json\n",
    "import csv\n",
    "import xml"
   ]
  },
  {
   "cell_type": "code",
   "execution_count": null,
   "id": "dc7300b3-51ab-4206-9574-6a847063c2a8",
   "metadata": {},
   "outputs": [],
   "source": [
    "# sqlite3 tutorial: https://www.geeksforgeeks.org/python/python-sqlite/#\n",
    "import sqlite3"
   ]
  },
  {
   "cell_type": "code",
   "execution_count": null,
   "id": "6edd7145-ca78-4f93-9ce7-c24f08519f35",
   "metadata": {},
   "outputs": [],
   "source": [
    "# a directory of math package attributes\n",
    "import math\n",
    "dir(math) # lists all the attributes and methods available for an object, making it easy to explore what it can do"
   ]
  },
  {
   "cell_type": "code",
   "execution_count": null,
   "id": "15f2e62e-dff1-4d63-9b4b-664190886a42",
   "metadata": {},
   "outputs": [],
   "source": [
    "# help on a specific math function\n",
    "import math\n",
    "help(math.sin) # provides detailed information about an objects, modules, or functions"
   ]
  }
 ],
 "metadata": {
  "kernelspec": {
   "display_name": "Python 3 (ipykernel)",
   "language": "python",
   "name": "python3"
  },
  "language_info": {
   "codemirror_mode": {
    "name": "ipython",
    "version": 3
   },
   "file_extension": ".py",
   "mimetype": "text/x-python",
   "name": "python",
   "nbconvert_exporter": "python",
   "pygments_lexer": "ipython3",
   "version": "3.13.7"
  }
 },
 "nbformat": 4,
 "nbformat_minor": 5
}
